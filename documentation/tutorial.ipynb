{
 "cells": [
  {
   "cell_type": "markdown",
   "id": "6a87c992",
   "metadata": {},
   "source": [
    "# LightHearted: Tutorial\n",
    "\n",
    "This notebook presents a walkthrough of how to use the LightHearted framework to create a lighting design. For this, we use the design employed in a concert with the Aarhus Symphony Orchestra (ASO) for a performance of Tchaikovsky's Romeo and Juliet Fantasy Overture. The script containing this can be found in the examples folder . By the end of this tutorial you should hopefully be familiar with the use of the five main objects used in a LightHearted workflow:\n",
    "\n",
    "- FIFOBuffer - Used to contain and process ECG signals\n",
    "- LightingArray - Used to define a lighting group and send them commands\n",
    "- MappingArray - Used to contain and reduce data to be mapped from multiple ECG devices and derive spatial expansions that can be mapped to LightingArrays\n",
    "- ContinuousMapper - Used to define the relationship between a MappingArray and a LightingArray\n",
    "- TriggerMapper - Used to define event based triggers between FIFOBuffers and LightingArrays"
   ]
  },
  {
   "cell_type": "markdown",
   "id": "aec4e661",
   "metadata": {},
   "source": [
    "## 1. Basics\n",
    "\n",
    "### 1.1 Workflow\n",
    "\n",
    "The general workflow for LightHearted is as follows:\n",
    "\n",
    "1. ECG signals are transported over OSC and received in a script. For each signal, a first-in-first-out (FIFO) buffer is instanced.\n",
    "2. Optional chains of transforms are applied to each FIFOBuffer, and placed into new instances of FIFOBuffers (e.g. filtering, QRS extraction).\n",
    "3. Signal or transformed buffers can be assigned to instances of MappingArrays. These take multiple FIFOBuffers, with their position in the array corresponding to a spatial position. Each buffer is reduced to a single value using a chain of functions (e.g. mean, the newest value in the array).\n",
    "4. The MappingArray can be used to generate spatial expansions, that is expanding the MappingArray to match the shape of a LightingArray. This can be done through a user-defined function (e.g. linear interpolation, filling the expansion with set values). A single MappingArray can generate multiple spatial expansions if the data is to be used to generate lighting across multiple lighting groups.\n",
    "5. Groups of lighting fixtures are defined as LightingArray objects. If interpolations are to be used to generate spatial expansions in the MappingArray, anchor positions in the LightingArray can also be defined. These correspond to the spatial positions of the values in the MappingArray before expansion.\n",
    "6. ContinuousMappers can be instanced to define the relationship between the MappingArrays/spatial expansions and the LightingArrays. These result in the intensity and colour parameters of the LightingArray being continuously updated.\n",
    "7. The LightingArray can be used to send commands to the installed lighting system in the concert hall, sending the corresponding parameter messages to the fixtures.\n",
    "8. TriggerMapper objects can be defined to generate action based mappings between FIFOBuffers. These take one buffer as a reference and another as a query (e.g. a signal buffer could be a reference, and a buffer of peaks indices could be a query). A chain of trigger functions can be defined, as long as the final function returns a bool (e.g. has a peak index in the peak buffer crossed a specified index in the signal buffer). Upon return of a True value from the trigger function chain, an action function is triggered.\n",
    "\n",
    "These should be implemented in a single script, encapsulated in async functions. Familiarity with the asyncio library is assumed. If there are many parameters to define, it is also recommeded to make use of a config script, which is imported into the main script.\n",
    "\n",
    "### 1.2 The ASO Design\n",
    "\n",
    "The ASO design consists of three primary lighting groups and corresponding mappings:\n",
    "\n",
    "1. A group of 14 horizonally organised LEDs reflected from the organ directly behind the stage. For this, we derive heart rate values from the ECG signals, interpolate the values to match the number of LEDs, and use these to drive shifts in RGB values within a defined colourmap. We also use the detection of an R-Peak to trigger changes in the lighting intensity.\n",
    "2. A group of 36 baluster leds, mounted in the balconies around the audience. For these, we use the derived heart rate from the conductor's ECG to generate shifts in RGB within the colourmap.\n",
    "3. A horizontally arranged row of 15 background LEDs, mounted in the wall to the rear of the stage. We use these to display the current colourmap.\n",
    "\n",
    "A video of the design in action can be found [here](https://osf.io/c2zt9/?view_only=23cc8068eba347b2a7cc4f6dbc77adc3)."
   ]
  },
  {
   "cell_type": "markdown",
   "id": "15542e5c",
   "metadata": {},
   "source": [
    "## 2. First Steps\n",
    "\n",
    "### 2.1 Setting Up a Script\n",
    "\n",
    "The first step is to create a new script, which we will call ASO25.py. At first, we will just import asyncio, used to define our async functions."
   ]
  },
  {
   "cell_type": "code",
   "execution_count": 1,
   "id": "a3aced24",
   "metadata": {},
   "outputs": [],
   "source": [
    "import asyncio"
   ]
  },
  {
   "cell_type": "markdown",
   "id": "8f98f6ad",
   "metadata": {},
   "source": [
    "We will then define a main function, and set it to run."
   ]
  },
  {
   "cell_type": "code",
   "execution_count": null,
   "id": "c2764503",
   "metadata": {},
   "outputs": [],
   "source": [
    "async def main():\n",
    "    pass\n",
    "\n",
    "if __name__ == \"__main__\":\n",
    "    asyncio.run(main())"
   ]
  },
  {
   "cell_type": "markdown",
   "id": "a342ba41",
   "metadata": {},
   "source": [
    "We will define separate processing functions, and these will be launched from the main function. We will also initialise all of our LightHearted objects within the main function.\n",
    "\n",
    "The next step is to define identifiers for each of the ECG signals that we will use. It is important to note that these identifiers will be used across the design, e.g. as osc addresses, as dictionary keys, and data labels. For the purposes of this example, we will use four ECG signals - from the conductor, the french horn, the concertmaster, and an audience member. We will labels these ```\"conductor\"```, ```\"brs\"```, ```\"vn1\"```, and ```\"aud\"``` respectively. We will define them as a list ```osc_addresses```, as their first use will be in the reception of the ECG data over OSC. We can place this line in the main function."
   ]
  },
  {
   "cell_type": "code",
   "execution_count": 2,
   "id": "ad04d809",
   "metadata": {},
   "outputs": [],
   "source": [
    "osc_addresses = [\"/aud\", \"/brs\", \"/conductor\", \"/vn1\"]"
   ]
  },
  {
   "cell_type": "markdown",
   "id": "c605879b",
   "metadata": {},
   "source": [
    "### 2.2 Getting Data Into the Script\n",
    "\n",
    "The next step is to start receiving data in the script. We can either receive data from four ECG devices over OSC, or we can use the ```csv_simulator``` to read recorded ECG csv files in realtime. We will walk through both of these.\n",
    "\n",
    "#### 2.2.1 Sending Data from an ECG Sensor\n",
    "\n",
    "LightHearted is intented to be device agnostic, that is that it can function with any ECG device. In view of this, ECG data is expected to be received over OSC messages. Currently, LightHearted contains inbuilt support for devices from [SIFILabs](https://sifilabs.com/). This can be accessed through running the script ```sifilabs.py``` in the ```acquisition``` module. This will connect to and stream an arbritrary number of SIFILabs devices over OSC.\n",
    "\n",
    "The script is parameterised in ```sifi_config.py```. The most important variable here is the ```mac_dict```, which provides the device identifier and MAC address. It is important to note that the keys in the ```mac_dict``` should match the OSC addresses set in the LightHearted design. So in our case, we would parameterise it as follows:"
   ]
  },
  {
   "cell_type": "code",
   "execution_count": null,
   "id": "bf2f0559",
   "metadata": {},
   "outputs": [],
   "source": [
    "mac_dict = { \n",
    "    \"/aud\": \"MACADDRESS1\",\n",
    "    \"/brs\": \"MACADDRESS2\",\n",
    "    \"/conductor\": \"MACADDRESS3\",\n",
    "    \"/vn1\": \"MACADDRESS4\"\n",
    "    }"
   ]
  },
  {
   "cell_type": "markdown",
   "id": "3d3568b6",
   "metadata": {},
   "source": [
    "The IP and port of the server receiving the data (in our case to be used in our design) are also set here in the ```sifi_receiver_ip``` and ```sifi_receiver_port``` variables.\n",
    "\n",
    "#### 2.2.2 Reading a CSV File in Realtime\n",
    "\n",
    "LightHearted also supports the use of previously recorded ECG data. This is done through the ```csv_simulator``` module. All the csv files should be placed in a single directory, and importantly, their names should match the OSC addresses specified above. In our case, our four csv files should be named:\n",
    "\n",
    "- ```aud.csv```\n",
    "- ```brs.csv```\n",
    "- ```conductor.csv```\n",
    "- ```vn1.csv```\n",
    "\n",
    "The reader is parameterised through ```sim_config.py```. The ```filepath``` variable specifies the directory in which the csv files are located. If ```None``` is provided, this defaults to the ```csv``` directory. The ```column``` specifies the column of the csv to read from. The ```csv_sr``` set the speed of playback.\n",
    "\n",
    "Both of these methods can be integrated into a LightHearted script by calling them as a process within the script. In our case, we will use the csv_reader and define a function where it can run on the press of the ```'r'``` key."
   ]
  },
  {
   "cell_type": "code",
   "execution_count": null,
   "id": "0d0f8ddc",
   "metadata": {},
   "outputs": [],
   "source": [
    "import aioconsole\n",
    "from multiprocessing import Process\n",
    "from csv_simulator.csv_simulator import csv_sim\n",
    "\n",
    "async def listen_for_commands() -> None:\n",
    "    \"\"\"\n",
    "    Asynchronously listens for user commands from the console.\n",
    "    - 'q': Cancels all running tasks and stops the event loop (quits the program).\n",
    "    - 'r': Starts the CSV simulator in a separate process.\n",
    "\n",
    "    Parameters\n",
    "    ----------\n",
    "    None\n",
    "    \"\"\"\n",
    "    while True:\n",
    "        user_input = await aioconsole.ainput(\"Enter 'r' to run simulator: \")\n",
    "        if user_input.lower() == 'r':\n",
    "            p_csv = Process(target=csv_sim)\n",
    "            p_csv.start()"
   ]
  },
  {
   "cell_type": "markdown",
   "id": "c0d9a451",
   "metadata": {},
   "source": [
    "In our main block, we now define a task for the listener."
   ]
  },
  {
   "cell_type": "code",
   "execution_count": null,
   "id": "4f59e0cd",
   "metadata": {},
   "outputs": [],
   "source": [
    "async def main():\n",
    "\n",
    "    # Define the OSC addresses\n",
    "    osc_addresses = [\"/aud\", \"/brs\", \"/conductor\", \"/vn1\"]\n",
    "\n",
    "    # Start the command listener task\n",
    "    task_commands = asyncio.create_task(listen_for_commands())\n",
    "    all_tasks = [task_commands]\n",
    "\n",
    "    await asyncio.gather(*all_tasks)"
   ]
  },
  {
   "cell_type": "markdown",
   "id": "be0ae856",
   "metadata": {},
   "source": [
    "We will now be able to launch the csv reader on the press of the ```'r'``` key.\n",
    "\n",
    "#### 2.2.3 Receiving Data in the Script\n",
    "\n",
    "So how do we receive this data in our script? There are several inbuilt functions to setup an osc server and process incoming data. However, first we need to initialise a location for the data to be placed. This is where we are introduced to the first key object for a LightHearted design - the ```FIFOBuffer``` object. This is a buffer of a fixed size, which operates on a first-in-first-out principle, meaning that as data is added to the buffer that exceeds the buffer length, the oldest data in the buffer is deleted. We instantiate the buffer with a single argument, the size of the buffer."
   ]
  },
  {
   "cell_type": "code",
   "execution_count": 3,
   "id": "b3248a58",
   "metadata": {},
   "outputs": [],
   "source": [
    "import sys\n",
    "sys.path.append(\"../\")\n",
    "from acquisition.fifo_buffer import FIFOBuffer\n",
    "\n",
    "buffer = FIFOBuffer(10)"
   ]
  },
  {
   "cell_type": "markdown",
   "id": "e5692258",
   "metadata": {},
   "source": [
    "We can add data to the buffer using the ```enqueue``` method. ```Int```, ```Float```, ```List```, ```Tuple``` and ```np.ndarray``` are accepted as valid to enqueue. Lists, tuples, and numpy arrays are flattened before they are enqueued. The ```get_buffer``` method returns the current buffer."
   ]
  },
  {
   "cell_type": "code",
   "execution_count": 4,
   "id": "a82e3e05",
   "metadata": {},
   "outputs": [
    {
     "name": "stdout",
     "output_type": "stream",
     "text": [
      "int: [1.]\n",
      "float: [1.  1.5]\n",
      "list: [1.  1.5 2.  3.  4. ]\n",
      "tuple: [1.  1.5 2.  3.  4.  5.  6. ]\n",
      "np.ndarray: [1.  1.5 2.  3.  4.  5.  6.  7.  8.  9. ]\n",
      "FIFO (1 is removed, 10 is added): [ 1.5  2.   3.   4.   5.   6.   7.   8.   9.  10. ]\n"
     ]
    }
   ],
   "source": [
    "# int\n",
    "buffer.enqueue(1)\n",
    "print(f\"int: {buffer.get_buffer()}\")\n",
    "# float\n",
    "buffer.enqueue(1.5)\n",
    "print(f\"float: {buffer.get_buffer()}\")\n",
    "# list\n",
    "buffer.enqueue([2, 3, 4])\n",
    "print(f\"list: {buffer.get_buffer()}\")\n",
    "# tuple\n",
    "buffer.enqueue((5, 6))\n",
    "print(f\"tuple: {buffer.get_buffer()}\")\n",
    "# np.ndarray\n",
    "import numpy as np\n",
    "buffer.enqueue(np.array([7, 8, 9]))\n",
    "print(f\"np.ndarray: {buffer.get_buffer()}\")\n",
    "\n",
    "# first in, first out\n",
    "buffer.enqueue(10)\n",
    "print(f\"FIFO (1 is removed, 10 is added): {buffer.get_buffer()}\")"
   ]
  },
  {
   "cell_type": "markdown",
   "id": "cea02864",
   "metadata": {},
   "source": [
    "The buffer can be cleared with the ```clear_buffer``` method."
   ]
  },
  {
   "cell_type": "code",
   "execution_count": 5,
   "id": "eac04c41",
   "metadata": {},
   "outputs": [
    {
     "name": "stdout",
     "output_type": "stream",
     "text": [
      "Buffer after clearing: []\n"
     ]
    }
   ],
   "source": [
    "buffer.clear_buffer()\n",
    "print(f\"Buffer after clearing: {buffer.get_buffer()}\")"
   ]
  },
  {
   "cell_type": "markdown",
   "id": "11eb7566",
   "metadata": {},
   "source": [
    "The ```set_buffer``` method clears and sets the buffer to the current values. The ```resize_buffer``` argument can reset the fixed length of the buffer to the new input. ```get_size``` returns the current size of the buffer and ```get_max_size``` returns the fixed length. ```is_full``` returns a boolean if the the buffer has reached its fixed length."
   ]
  },
  {
   "cell_type": "code",
   "execution_count": 6,
   "id": "2134a044",
   "metadata": {},
   "outputs": [
    {
     "name": "stdout",
     "output_type": "stream",
     "text": [
      "Buffer after enqueing: [0. 1. 2. 3. 4. 5. 6. 7. 8. 9.]\n",
      "\n",
      "\n",
      "Buffer after setting: [0. 1. 2. 3. 4.]\n",
      "Buffer size: 5\n",
      "Buffer max size: 10\n",
      "Is buffer full? False\n",
      "\n",
      "\n",
      "Buffer after setting with resize: [0. 1. 2. 3. 4.]\n",
      "Buffer size after resize: 5\n",
      "Buffer max size after resize: 5\n",
      "Is buffer full after resize? True\n"
     ]
    }
   ],
   "source": [
    "buffer.enqueue(np.arange(10))\n",
    "print(f\"Buffer after enqueing: {buffer.get_buffer()}\")\n",
    "print(\"\\n\")\n",
    "\n",
    "buffer.set_buffer(np.arange(5), resize_buffer=False)\n",
    "print(f\"Buffer after setting: {buffer.get_buffer()}\")\n",
    "print(f\"Buffer size: {buffer.get_size()}\")\n",
    "print(f\"Buffer max size: {buffer.get_max_size()}\")\n",
    "print(f\"Is buffer full? {buffer.is_full()}\")\n",
    "print(\"\\n\")\n",
    "\n",
    "buffer.set_buffer(np.arange(5), resize_buffer=True)\n",
    "print(f\"Buffer after setting with resize: {buffer.get_buffer()}\")\n",
    "print(f\"Buffer size after resize: {buffer.get_size()}\")\n",
    "print(f\"Buffer max size after resize: {buffer.get_max_size()}\")\n",
    "print(f\"Is buffer full after resize? {buffer.is_full()}\")"
   ]
  },
  {
   "cell_type": "markdown",
   "id": "bf019884",
   "metadata": {},
   "source": [
    "We can now instantiate four ```FIFOBuffers``` in our main loop, which we will set to have a length of 256, or one second at a sampling rate of 256Hz. We will store these in a dictionary, with the corresponding OSC address as the key."
   ]
  },
  {
   "cell_type": "code",
   "execution_count": null,
   "id": "58eb4276",
   "metadata": {},
   "outputs": [],
   "source": [
    "async def main():\n",
    "\n",
    "    # Define the OSC addresses\n",
    "    osc_addresses = [\"/aud\", \"/brs\", \"/conductor\", \"/vn1\"]\n",
    "\n",
    "    # Create FIFO buffers for each OSC address\n",
    "    ecg_buffer_dict = {address: FIFOBuffer(256) for address in osc_addresses}\n",
    "\n",
    "    # Start the command listener task\n",
    "    task_commands = asyncio.create_task(listen_for_commands())\n",
    "    all_tasks = [task_commands]\n",
    "\n",
    "    await asyncio.gather(*all_tasks)"
   ]
  },
  {
   "cell_type": "markdown",
   "id": "521d49f1",
   "metadata": {},
   "source": [
    "We can now set up a server to listen for incoming OSC messages and enque the received data in the correct buffer. We can do this with the ```setup_osc_server``` method. This takes four arguments: an ip address and port for the server, the list of osc addresses and the dictionary of corresponding FIFOBuffers."
   ]
  },
  {
   "cell_type": "code",
   "execution_count": null,
   "id": "5065ed67",
   "metadata": {},
   "outputs": [],
   "source": [
    "from utils.utils import setup_osc_server\n",
    "\n",
    "async def main():\n",
    "\n",
    "    # Define the OSC addresses\n",
    "    osc_addresses = [\"/aud\", \"/brs\", \"/conductor\", \"/vn1\"]\n",
    "\n",
    "    # Set the OSC server IP and port\n",
    "    osc_ip = \"127.0.0.1\"\n",
    "    osc_port = 13000\n",
    "\n",
    "    # Create FIFO buffers for each OSC address\n",
    "    ecg_buffer_dict = {address: FIFOBuffer(256) for address in osc_addresses}\n",
    "\n",
    "    # Set up the OSC server to listen for incoming messages\n",
    "    setup_osc_server(osc_ip, osc_port, osc_addresses, ecg_buffer_dict)\n",
    "\n",
    "    # Start the command listener task\n",
    "    task_commands = asyncio.create_task(listen_for_commands())\n",
    "    all_tasks = [task_commands]\n",
    "\n",
    "    await asyncio.gather(*all_tasks)"
   ]
  },
  {
   "cell_type": "markdown",
   "id": "6e536761",
   "metadata": {},
   "source": [
    "We now also need to initiate a task to process the OSC messages (i.e. enqueue received data in the corresponding buffer). For this, we can use the inbuilt function ```osc_loop```."
   ]
  },
  {
   "cell_type": "code",
   "execution_count": null,
   "id": "56cd69dc",
   "metadata": {},
   "outputs": [],
   "source": [
    "from utils.utils import osc_loop\n",
    "\n",
    "async def main():\n",
    "\n",
    "    # Define the OSC addresses\n",
    "    osc_addresses = [\"/aud\", \"/brs\", \"/conductor\", \"/vn1\"]\n",
    "\n",
    "    # Set the OSC server IP and port\n",
    "    osc_ip = \"127.0.0.1\"\n",
    "    osc_port = 13000\n",
    "\n",
    "    # Create FIFO buffers for each OSC address\n",
    "    ecg_buffer_dict = {address: FIFOBuffer(256) for address in osc_addresses}\n",
    "\n",
    "    # Set up the OSC server to listen for incoming messages\n",
    "    setup_osc_server(osc_ip, osc_port, osc_addresses, ecg_buffer_dict)\n",
    "\n",
    "    # Start the command listener task\n",
    "    task_commands = asyncio.create_task(listen_for_commands())\n",
    "\n",
    "    # Start the OSC loop to process incoming messages\n",
    "    task_osc_loop = asyncio.create_task(osc_loop())\n",
    "\n",
    "    all_tasks = [task_commands, task_osc_loop]\n",
    "\n",
    "    await asyncio.gather(*all_tasks)"
   ]
  },
  {
   "cell_type": "markdown",
   "id": "79ba996d",
   "metadata": {},
   "source": [
    "Now the incoming data will be continuously enqueued in the FIFOBuffers and we can start to use it to generate the lighting design.\n",
    "\n",
    "## 3. Processing Data\n",
    "\n",
    "The first step before we begin generating a lighting design through mappings is to process the data that we receive in our ```FIFOBuffers```. LightHearted is designed to be flexible in these processing steps, and therefore processing is centred around two main methods of the ```FIFOBuffer``` object: ```transform``` and ```transform_tick```.\n",
    "\n",
    "### 3.1 The FIFOBuffer Transform Method\n",
    "\n",
    "The ```transform``` method is one of the key methods in LightHearted. LightHearted by default does not apply any processing or pre-processing such as filtering to the received ECG signals. The ```transform``` method is intended as a way through which processing functions can be applied in a user-defined manner. The function takes as its arguments a series of functions, with corresponding arguments and keyword arguments. These can be any Python function, so long as the function's first argument is an array-like. For a simple demonstration, we can perform a simple transform that multiplies the buffer by a factor of two."
   ]
  },
  {
   "cell_type": "code",
   "execution_count": 7,
   "id": "620bb234",
   "metadata": {},
   "outputs": [
    {
     "name": "stdout",
     "output_type": "stream",
     "text": [
      "Buffer: [0. 1. 2. 3. 4. 5. 6. 7. 8. 9.]\n",
      "Transformed Buffer: [ 0.  2.  4.  6.  8. 10. 12. 14. 16. 18.]\n"
     ]
    }
   ],
   "source": [
    "# define a simple multiplication function\n",
    "def multiply(data, factor=2):\n",
    "    return data * factor\n",
    "\n",
    "# instiatiate a FIFOBuffer\n",
    "buffer = FIFOBuffer(10)\n",
    "\n",
    "# fill the buffer with some data\n",
    "buffer.enqueue(np.arange(10))\n",
    "\n",
    "# define functions, arguments, and keyword arguments\n",
    "functions = [multiply]\n",
    "args = [()]\n",
    "kwargs = [{\"factor\": 2}]\n",
    "\n",
    "# apply the transform method\n",
    "result = buffer.transform(functions, args, kwargs)\n",
    "print(f\"Buffer: {buffer.get_buffer()}\")\n",
    "print(f\"Transformed Buffer: {result}\")"
   ]
  },
  {
   "cell_type": "markdown",
   "id": "288d38a4",
   "metadata": {},
   "source": [
    "This also works if we use the args instead of the kwargs. Note that the args are taken as a tuple, so require a comma delimiter after single values."
   ]
  },
  {
   "cell_type": "code",
   "execution_count": 8,
   "id": "bd5f7624",
   "metadata": {},
   "outputs": [
    {
     "name": "stdout",
     "output_type": "stream",
     "text": [
      "Buffer: [0. 1. 2. 3. 4. 5. 6. 7. 8. 9.]\n",
      "Transformed Buffer: [ 0.  2.  4.  6.  8. 10. 12. 14. 16. 18.]\n"
     ]
    }
   ],
   "source": [
    "# instiatiate a FIFOBuffer\n",
    "buffer = FIFOBuffer(10)\n",
    "\n",
    "# fill the buffer with some data\n",
    "buffer.enqueue(np.arange(10))\n",
    "\n",
    "# define functions, arguments, and keyword arguments\n",
    "functions = [multiply]\n",
    "args = [(2,)]\n",
    "kwargs = [{}]\n",
    "\n",
    "# apply the transform method\n",
    "result = buffer.transform(functions, args, kwargs)\n",
    "print(f\"Buffer: {buffer.get_buffer()}\")\n",
    "print(f\"Transformed Buffer: {result}\")"
   ]
  },
  {
   "cell_type": "markdown",
   "id": "a500c698",
   "metadata": {},
   "source": [
    "We can also apply a chain of functions. Let's try applying a multiplication and filter function to some noise."
   ]
  },
  {
   "cell_type": "code",
   "execution_count": 9,
   "id": "85720a87",
   "metadata": {},
   "outputs": [
    {
     "data": {
      "text/plain": [
       "Text(0.5, 1.0, 'Transformed Data')"
      ]
     },
     "execution_count": 9,
     "metadata": {},
     "output_type": "execute_result"
    },
    {
     "data": {
      "image/png": "[encoded data removed]",
      "text/plain": [
       "<Figure size 1200x600 with 2 Axes>"
      ]
     },
     "metadata": {},
     "output_type": "display_data"
    }
   ],
   "source": [
    "from utils.utils import filter\n",
    "\n",
    "# instiatiate a FIFOBuffer\n",
    "buffer = FIFOBuffer(1048)\n",
    "\n",
    "# fill the buffer with some noise\n",
    "buffer.enqueue(np.random.normal(size=1048))\n",
    "\n",
    "# define functions, arguments, and keyword arguments\n",
    "functions = [multiply, filter]\n",
    "args = [(), ()]\n",
    "kwargs = [{\"factor\": 2}, {\"order\": 3, \"cf\": 5, \"type\": \"low\", \"fs\": 256}] # filter parameters - order, cutoff frequency, type, and sampling frequency\n",
    "\n",
    "# apply the transform method\n",
    "result = buffer.transform(functions, args, kwargs)\n",
    "\n",
    "import matplotlib.pyplot as plt\n",
    "# plot the original and transformed data\n",
    "plt.figure(figsize=(12, 6))\n",
    "plt.subplot(2, 1, 1)\n",
    "plt.plot(buffer.get_buffer(), label='Original Data')\n",
    "plt.title('Original Data')\n",
    "plt.subplot(2, 1, 2)\n",
    "plt.plot(result, label='Transformed Data', color='orange')\n",
    "plt.title('Transformed Data')"
   ]
  },
  {
   "cell_type": "markdown",
   "id": "369a93f6",
   "metadata": {},
   "source": [
    "We can also use the special arguments ```\"min\"```, ```\"max\"```, ```\"mean\"```, and ```\"std\"``` to pass statistical properties of the signal as arguments to any of the functions. We can use this here, for example, to normalise our signal by diving by its maximum value."
   ]
  },
  {
   "cell_type": "code",
   "execution_count": 10,
   "id": "36062dc1",
   "metadata": {},
   "outputs": [
    {
     "data": {
      "text/plain": [
       "Text(0.5, 1.0, 'Transformed Data')"
      ]
     },
     "execution_count": 10,
     "metadata": {},
     "output_type": "execute_result"
    },
    {
     "data": {
      "image/png": "[encoded data removed]",
      "text/plain": [
       "<Figure size 1200x600 with 2 Axes>"
      ]
     },
     "metadata": {},
     "output_type": "display_data"
    }
   ],
   "source": [
    "def divide(data, factor=2):\n",
    "    return data / factor\n",
    "\n",
    "# instiatiate a FIFOBuffer\n",
    "buffer = FIFOBuffer(1048)\n",
    "\n",
    "# fill the buffer with some noise\n",
    "buffer.enqueue(np.random.normal(size=1048))\n",
    "\n",
    "# define functions, arguments, and keyword arguments\n",
    "functions = [multiply, filter, divide]\n",
    "args = [(), (), ()]\n",
    "kwargs = [{\"factor\": 2}, {\"order\": 3, \"cf\": 5, \"type\": \"low\", \"fs\": 256}, {\"factor\":\"max\"}]\n",
    "\n",
    "# apply the transform method\n",
    "result = buffer.transform(functions, args, kwargs)\n",
    "\n",
    "import matplotlib.pyplot as plt\n",
    "# plot the original and transformed data\n",
    "plt.figure(figsize=(12, 6))\n",
    "plt.subplot(2, 1, 1)\n",
    "plt.plot(buffer.get_buffer(), label='Original Data')\n",
    "plt.title('Original Data')\n",
    "plt.subplot(2, 1, 2)\n",
    "plt.plot(result, label='Transformed Data', color='orange')\n",
    "plt.title('Transformed Data')"
   ]
  },
  {
   "cell_type": "markdown",
   "id": "7889e185",
   "metadata": {},
   "source": [
    "In the case that a function returns multiple values and we require a specific return value for the next function in the chain, we can also specify the output indices for each function."
   ]
  },
  {
   "cell_type": "code",
   "execution_count": 11,
   "id": "6934871c",
   "metadata": {},
   "outputs": [
    {
     "data": {
      "text/plain": [
       "Text(0.5, 1.0, 'Transformed Data')"
      ]
     },
     "execution_count": 11,
     "metadata": {},
     "output_type": "execute_result"
    },
    {
     "data": {
      "image/png": "[encoded data removed]",
      "text/plain": [
       "<Figure size 1200x600 with 2 Axes>"
      ]
     },
     "metadata": {},
     "output_type": "display_data"
    }
   ],
   "source": [
    "def multiply(data, factor=2):\n",
    "    return None, None, data* factor # add None for the first two outputs\n",
    "\n",
    "# instiatiate a FIFOBuffer\n",
    "buffer = FIFOBuffer(1048)\n",
    "\n",
    "# fill the buffer with some noise\n",
    "buffer.enqueue(np.random.normal(size=1048))\n",
    "\n",
    "# define functions, arguments, and keyword arguments\n",
    "functions = [multiply, filter, divide]\n",
    "args = [(), (), ()]\n",
    "kwargs = [{\"factor\": 2}, {\"order\": 3, \"cf\": 5, \"type\": \"low\", \"fs\": 256}, {\"factor\":\"max\"}]\n",
    "\n",
    "# specify output indices for each function\n",
    "output_indices = [2, None, None]  # Use the third output of multiply\n",
    "\n",
    "# apply the transform method\n",
    "result = buffer.transform(functions, args, kwargs, output_indices=output_indices) # pass output_indices to the transform method\n",
    "\n",
    "import matplotlib.pyplot as plt\n",
    "# plot the original and transformed data\n",
    "plt.figure(figsize=(12, 6))\n",
    "plt.subplot(2, 1, 1)\n",
    "plt.plot(buffer.get_buffer(), label='Original Data')\n",
    "plt.title('Original Data')\n",
    "plt.subplot(2, 1, 2)\n",
    "plt.plot(result, label='Transformed Data', color='orange')\n",
    "plt.title('Transformed Data')"
   ]
  },
  {
   "cell_type": "markdown",
   "id": "7eb5f273",
   "metadata": {},
   "source": [
    "It is important to note that the transform function returns a numpy array (in this case at least). So if you need the transform in a ```FIFOBuffer```, you will have to instantiate a new buffer and enqueue the result. This method for applying multiple functions is central to LightHearted, and appears in other functions and objects."
   ]
  },
  {
   "cell_type": "markdown",
   "id": "71503e34",
   "metadata": {},
   "source": [
    "#### 3.1.1 Transform Tick\n",
    "\n",
    "When working with signals in real-time, timing becomes important. We don't want to use computational resources to repeatedly perform transforms when no new data has arrived. Equally, we might only need to perform the transform at set time intervals. To aid in timing, the ```transform``` method has a variant ```transform_tick``` which can handle timing. The ```transform_tick``` method operates identically to the ```transform``` method. However, it can take two additional arguments. ```mode``` specifies whether the transform should take place when a new value is enqueued in the buffer (```\"update\"```) or at a set time inverval (```\"time\"```). In ```\"time\"``` mode, and additional argument ```interval``` can be passed, which specifies the update time in milliseconds. In the case that the function is called and the ticks requirements have not been met, the function returns ```None```. We can first demonstrate in ```\"update\"``` mode."
   ]
  },
  {
   "cell_type": "code",
   "execution_count": 12,
   "id": "38847453",
   "metadata": {},
   "outputs": [
    {
     "name": "stdout",
     "output_type": "stream",
     "text": [
      "Enqueued: 90\n",
      "Index: 0, Data: 90, Transformed Buffer: [  2.   4.   6.   8.  10.  12.  14.  16.  18. 180.]\n",
      "Index: 1, Data: 91, Transformed Buffer: None\n",
      "Enqueued: 92\n",
      "Index: 2, Data: 92, Transformed Buffer: [  4.   6.   8.  10.  12.  14.  16.  18. 180. 184.]\n",
      "Index: 3, Data: 93, Transformed Buffer: None\n",
      "Enqueued: 94\n",
      "Index: 4, Data: 94, Transformed Buffer: [  6.   8.  10.  12.  14.  16.  18. 180. 184. 188.]\n",
      "Index: 5, Data: 95, Transformed Buffer: None\n",
      "Enqueued: 96\n",
      "Index: 6, Data: 96, Transformed Buffer: [  8.  10.  12.  14.  16.  18. 180. 184. 188. 192.]\n",
      "Index: 7, Data: 97, Transformed Buffer: None\n",
      "Enqueued: 98\n",
      "Index: 8, Data: 98, Transformed Buffer: [ 10.  12.  14.  16.  18. 180. 184. 188. 192. 196.]\n",
      "Index: 9, Data: 99, Transformed Buffer: None\n"
     ]
    }
   ],
   "source": [
    "def multiply(data, factor=2):\n",
    "    return data* factor\n",
    "\n",
    "# instiatiate a FIFOBuffer\n",
    "buffer = FIFOBuffer(10)\n",
    "\n",
    "# fill the buffer with some data\n",
    "buffer.enqueue(np.arange(10))\n",
    "\n",
    "# define functions, arguments, and keyword arguments\n",
    "functions = [multiply]\n",
    "args = [()]\n",
    "kwargs = [{\"factor\": 2}]\n",
    "\n",
    "# define some data to enqueue\n",
    "data_to_enqueue = np.arange(90, 100)\n",
    "\n",
    "# apply the transform method in a loop\n",
    "for i, data in enumerate(data_to_enqueue):\n",
    "\n",
    "    if i%2 == 0: # only enqueue every second data\n",
    "        # enqueue the data\n",
    "        buffer.enqueue(data)\n",
    "        print(f\"Enqueued: {data}\")\n",
    "        \n",
    "    # apply the transform method\n",
    "    result = buffer.transform_tick(functions, args, kwargs, mode=\"update\")\n",
    "    print(f\"Index: {i}, Data: {data}, Transformed Buffer: {result}\")"
   ]
  },
  {
   "cell_type": "markdown",
   "id": "f8b0733c",
   "metadata": {},
   "source": [
    "It is important to note here that even though the ```transform_tick``` method is called, internally it does not apply of the functions, saving computational resourses. This is useful while calling the function in ```while``` loops within async functions, as is the common use case in LightHearted scripts. We can also run this in ```\"time\"``` mode."
   ]
  },
  {
   "cell_type": "code",
   "execution_count": 13,
   "id": "016b4fc5",
   "metadata": {},
   "outputs": [
    {
     "name": "stdout",
     "output_type": "stream",
     "text": [
      "Time Elapsed: 0.00 seconds, Transformed Buffer: [ 0.  2.  4.  6.  8. 10. 12. 14. 16. 18.]\n",
      "Time Elapsed: 0.50 seconds, Transformed Buffer: [ 0.  2.  4.  6.  8. 10. 12. 14. 16. 18.]\n",
      "Time Elapsed: 1.00 seconds, Transformed Buffer: [ 0.  2.  4.  6.  8. 10. 12. 14. 16. 18.]\n",
      "Time Elapsed: 1.50 seconds, Transformed Buffer: [ 0.  2.  4.  6.  8. 10. 12. 14. 16. 18.]\n",
      "Time Elapsed: 2.00 seconds, Transformed Buffer: [ 0.  2.  4.  6.  8. 10. 12. 14. 16. 18.]\n",
      "Time Elapsed: 2.50 seconds, Transformed Buffer: [ 0.  2.  4.  6.  8. 10. 12. 14. 16. 18.]\n",
      "Time Elapsed: 3.00 seconds, Transformed Buffer: [ 0.  2.  4.  6.  8. 10. 12. 14. 16. 18.]\n",
      "Time Elapsed: 3.50 seconds, Transformed Buffer: [ 0.  2.  4.  6.  8. 10. 12. 14. 16. 18.]\n",
      "Time Elapsed: 4.00 seconds, Transformed Buffer: [ 0.  2.  4.  6.  8. 10. 12. 14. 16. 18.]\n",
      "Time Elapsed: 4.50 seconds, Transformed Buffer: [ 0.  2.  4.  6.  8. 10. 12. 14. 16. 18.]\n",
      "Time Elapsed: 5.00 seconds, Transformed Buffer: [ 0.  2.  4.  6.  8. 10. 12. 14. 16. 18.]\n",
      "Time Elapsed: 5.50 seconds, Transformed Buffer: [ 0.  2.  4.  6.  8. 10. 12. 14. 16. 18.]\n",
      "Time Elapsed: 6.00 seconds, Transformed Buffer: [ 0.  2.  4.  6.  8. 10. 12. 14. 16. 18.]\n",
      "Time Elapsed: 6.50 seconds, Transformed Buffer: [ 0.  2.  4.  6.  8. 10. 12. 14. 16. 18.]\n",
      "Time Elapsed: 7.00 seconds, Transformed Buffer: [ 0.  2.  4.  6.  8. 10. 12. 14. 16. 18.]\n",
      "Time Elapsed: 7.50 seconds, Transformed Buffer: [ 0.  2.  4.  6.  8. 10. 12. 14. 16. 18.]\n",
      "Time Elapsed: 8.00 seconds, Transformed Buffer: [ 0.  2.  4.  6.  8. 10. 12. 14. 16. 18.]\n",
      "Time Elapsed: 8.50 seconds, Transformed Buffer: [ 0.  2.  4.  6.  8. 10. 12. 14. 16. 18.]\n",
      "Time Elapsed: 9.00 seconds, Transformed Buffer: [ 0.  2.  4.  6.  8. 10. 12. 14. 16. 18.]\n",
      "Time Elapsed: 9.50 seconds, Transformed Buffer: [ 0.  2.  4.  6.  8. 10. 12. 14. 16. 18.]\n"
     ]
    }
   ],
   "source": [
    "import time\n",
    "\n",
    "# instiatiate a FIFOBuffer\n",
    "buffer = FIFOBuffer(10)\n",
    "\n",
    "# fill the buffer with some data\n",
    "buffer.enqueue(np.arange(10))\n",
    "\n",
    "# define functions, arguments, and keyword arguments\n",
    "functions = [multiply]\n",
    "args = [()]\n",
    "kwargs = [{\"factor\": 2}]\n",
    "\n",
    "# define some data to enqueue\n",
    "data_to_enqueue = np.arange(90, 100)\n",
    "\n",
    "# apply the transform method in a loop\n",
    "now = time.perf_counter()\n",
    "duration = 10\n",
    "\n",
    "while time.perf_counter() - now <= duration:\n",
    "    \n",
    "    result = buffer.transform_tick(functions, args, kwargs, mode=\"time\", interval=500) # 500 ms interval\n",
    "\n",
    "    if result is not None: # check if transform was applied\n",
    "        print(f\"Time Elapsed: {time.perf_counter() - now:.2f} seconds, Transformed Buffer: {result}\")"
   ]
  },
  {
   "cell_type": "markdown",
   "id": "bffc0239",
   "metadata": {},
   "source": [
    "##### 3.1.1.1 Transform Tick and Asyncio Sleep\n",
    "\n",
    "LightHearted is intended to be run within asyncronous functions using the asyncio library. The asyncio library contains its own function which can be used to aid in timing operations: ```asyncio.sleep```. Without getting into too much detail, this function causes the current coroutine to sleep for a specified amount of time, freeing up resources for other tasks in the main event loop in the meantime (see [here](https://docs.python.org/3/library/asyncio-task.html#sleeping)). A common usecase, and how we use it in LightHearted, is to time an async function that we know only needs to be called at specified time intervals in a ```while``` loop. For example, using the simple ```transform``` method, we could time a buffer transform to occur once a second as follows."
   ]
  },
  {
   "cell_type": "code",
   "execution_count": null,
   "id": "4a72bae7",
   "metadata": {},
   "outputs": [],
   "source": [
    "# define an asynchronous function to transform the buffer once every second\n",
    "async def transform_buffer(buffer):\n",
    "\n",
    "    functions = [multiply]\n",
    "    args = [()]\n",
    "    kwargs = [{\"factor\": 2}]\n",
    "\n",
    "    while True:\n",
    "\n",
    "        result = buffer.transform(functions, args, kwargs)\n",
    "\n",
    "        await asyncio.sleep(1)  # Sleep for 1 second\n",
    "\n",
    "async def main():\n",
    "    # Create FIFO buffer\n",
    "    buffer = FIFOBuffer(10)\n",
    "\n",
    "    # Fill the buffer with some data\n",
    "    buffer.enqueue(np.arange(10))\n",
    "\n",
    "    # Start the transform task\n",
    "    task_transform = asyncio.create_task(transform_buffer(buffer))\n",
    "\n",
    "    await asyncio.gather(task_transform)"
   ]
  },
  {
   "cell_type": "markdown",
   "id": "436d8ab4",
   "metadata": {},
   "source": [
    "This has one main advantage over using the ```transform_tick``` method in ```time``` mode. Even though the ```transform_tick``` is only performing the transform at the specified time interval, the ```transform_tick``` method is still being called (returning ```None```). Although minimal, there is still a slight processing overhead associated with this. Conversely, using ```asyncio.sleep``` will only call the ```transform``` method at the specified time intervals. So why use the ```transform_tick``` method at all? Well there are several reasons. First, there might be additional processing that we wish to have performed within the asyc function at a faster rate than ```transform``` (say, for example, listening for incoming data that updates an argument for one of the transform functions). Moreover, when running the ```asyncio.sleep``` function repeatedly for longer periods of time (as in a ```while True:``` loop), slight errors can accumlate in the timing. For very time sensitive operations it is therefore preferable to use the ```transform_tick``` method. It is also possible to find a combination between these two methods to create a balance between the use of computational resources and the timing precision required. The following codeblock demonstrates the resource usage and timing for the two extreme option when making a transform every second: just using ```asyncio.sleep``` and just using ```transform_tick``` in ```time``` mode (with the ```while``` loop regulated with ```asyncio.sleep(0)```, a special usage of ```asyncio.sleep``` that immediately yields resources but also enables the immediate return to the coroutine)."
   ]
  },
  {
   "cell_type": "code",
   "execution_count": 15,
   "id": "0087a1a5",
   "metadata": {},
   "outputs": [
    {
     "name": "stdout",
     "output_type": "stream",
     "text": [
      "asyncio.sleep: 10 calls in 9.08s, 10 transforms (intended interval 1 s, actual interval 1.01 s)\n"
     ]
    }
   ],
   "source": [
    "# run a transform once per second and get 10 results using asyncio.sleep for timing\n",
    "\n",
    "async def transform_buffer(buffer):\n",
    "    \n",
    "    functions = [multiply, filter, divide]\n",
    "    args = [(), (), ()]\n",
    "    kwargs = [{\"factor\": 2}, {\"order\": 3, \"cf\": 5, \"type\": \"low\", \"fs\": 256}, {\"factor\":\"max\"}]\n",
    "\n",
    "    calls = 0 # variable to count the number of calls\n",
    "    results = 0 # variable to count the number of results (i.e. performed transforms)\n",
    "    no_results = 10 # number of results to perform before stopping\n",
    "    interval_s = 1 # interval in seconds at which to perform the transform\n",
    "\n",
    "    start = time.perf_counter() # start time for performance measurement\n",
    "    \n",
    "    while results < no_results: # loop until we have performed the desired number of transforms\n",
    "\n",
    "        result = buffer.transform(functions, args, kwargs)\n",
    "        calls += 1\n",
    "        results += 1\n",
    "\n",
    "        if results == 10: # stop after 10 results, avoid the last sleep\n",
    "            continue\n",
    "        else:\n",
    "            await asyncio.sleep(interval_s) # sleep for the specified interval\n",
    "\n",
    "    end = time.perf_counter() # end time for performance measurement\n",
    "\n",
    "    print(f\"asyncio.sleep: {calls} calls in {end-start:.2f}s, {results} transforms (intended interval {interval_s} s, actual interval {(end-start)/(no_results-1):.2f} s)\")\n",
    "\n",
    "async def main():\n",
    "    # Create FIFO buffer\n",
    "    buffer = FIFOBuffer(256)\n",
    "\n",
    "    # Fill the buffer with some data\n",
    "    buffer.enqueue(np.arange(256))\n",
    "\n",
    "    # Start the transform task\n",
    "    task_transform = asyncio.create_task(transform_buffer(buffer))\n",
    "\n",
    "    await asyncio.gather(task_transform)\n",
    "\n",
    "await main() # This will run the main function and start the asyncio event loop"
   ]
  },
  {
   "cell_type": "code",
   "execution_count": 16,
   "id": "864e4ce0",
   "metadata": {},
   "outputs": [
    {
     "name": "stdout",
     "output_type": "stream",
     "text": [
      "transform_tick: 1146093 calls in 9.00s, 10 transforms (intended interval 1 s, actual interval 1.00 s)\n"
     ]
    }
   ],
   "source": [
    "# run a transform once per second and get 10 results using transfom_tick for timing\n",
    "\n",
    "async def transform_buffer_tick(buffer):\n",
    "\n",
    "    functions = [multiply, filter, divide]\n",
    "    args = [(), (), ()]\n",
    "    kwargs = [{\"factor\": 2}, {\"order\": 3, \"cf\": 5, \"type\": \"low\", \"fs\": 256}, {\"factor\":\"max\"}]\n",
    "\n",
    "    calls = 0 # variable to count the number of calls\n",
    "    results = 0 # variable to count the number of results (i.e. performed transforms)\n",
    "    no_results = 10 # number of results to perform before stopping\n",
    "    interval_s = 1 # interval in seconds at which to perform the transform\n",
    "\n",
    "    start = time.perf_counter() # start time for performance measurement\n",
    "\n",
    "    while results < no_results: # loop until we have performed the desired number of transforms\n",
    "        \n",
    "        result = buffer.transform_tick(functions, args, kwargs, mode=\"time\", interval=interval_s * 1000)\n",
    "        calls += 1\n",
    "\n",
    "        if result is not None: # check if the call actually yielded a transform\n",
    "            results += 1\n",
    "\n",
    "        await asyncio.sleep(0) # yield control to the event loop continuously\n",
    "\n",
    "    end = time.perf_counter() # end time for performance measurement\n",
    "    \n",
    "    print(f\"transform_tick: {calls} calls in {end-start:.2f}s, {results} transforms (intended interval {interval_s} s, actual interval {(end-start)/(no_results-1):.2f} s)\")\n",
    "\n",
    "async def main():\n",
    "    # Create FIFO buffer\n",
    "    buffer = FIFOBuffer(256)\n",
    "\n",
    "    # Fill the buffer with some data\n",
    "    buffer.enqueue(np.arange(256))\n",
    "\n",
    "    # Start the transform task\n",
    "    task_transform = asyncio.create_task(transform_buffer_tick(buffer))\n",
    "\n",
    "    await asyncio.gather(task_transform)\n",
    "\n",
    "await main()"
   ]
  },
  {
   "cell_type": "markdown",
   "id": "9e5f4ca1",
   "metadata": {},
   "source": [
    "We can see that even just with 10 transforms, there is a slight drift in the ```asyncio.sleep``` version resulting in these 10 transforms actually requiring 9.08 seconds. However, the ```transform``` method is only called 10 times. Conversely, the ```transform_tick``` version performs the 10 transforms in exactly 9 seconds, but the ```transform``` function is called over a million times. Finding the right balance of ```transform_ticks``` and ```asyncio.sleep``` is a central aspect of using LightHearted for designs that are either running with limitted resources or for which processing is required on a strict schedule.\n",
    "\n",
    "With this explained, we will return to our design code, and add a function to apply a **QRS** transform to our signal buffers (a common transform used in ECG processing to create prominent peaks in the signal), have this update on the reception of new data from the sensor, and enque the transforms in a new set of buffers."
   ]
  },
  {
   "cell_type": "code",
   "execution_count": null,
   "id": "2298d445",
   "metadata": {},
   "outputs": [],
   "source": [
    "from derivation.transforms import pan_tompkins # pan_tompkins QRS detection algorithm\n",
    "\n",
    "async def transform_signals_qrs(ecg_buffer_dict, qrs_buffer_dict, osc_addresses):\n",
    "\n",
    "    ecg_filt_low = 5 # low cutoff frequency for bandpass filter in pan_tompkins\n",
    "    ecg_filt_high = 12 # high cutoff frequency for bandpass filter in pan_tompkins\n",
    "    ecg_window = 0.15 # window size in seconds for pan_tompkins\n",
    "    ecg_sr = 256 # sampling frequency for pan_tompkins\n",
    "    \n",
    "    while True:\n",
    "        ecg_buffer_dict = ecg_buffer_dict.copy()  # Create a copy of the current state of the buffers to avoid race conditions\n",
    "        for address in osc_addresses:\n",
    "            if ecg_buffer_dict[address].get_size() > 21: # ensure there is enough data in the buffer to perform the transform\n",
    "                \n",
    "                # apply the QRS transform to the ECG buffer and enqueue the result in the QRS\n",
    "                result = ecg_buffer_dict[address].transform_tick(\n",
    "                    functions = [pan_tompkins],\n",
    "                    args = [(ecg_filt_low, ecg_filt_high, ecg_window, ecg_sr)],\n",
    "                    kwargs = [{}],\n",
    "                    mode = \"update\"\n",
    "                )\n",
    "                if result is not None: # check if the transform was applied\n",
    "                    qrs_buffer_dict[address].enqueue(result) # enqueue the result in the QRS buffer\n",
    "\n",
    "        await asyncio.sleep(0) # yield control to the event loop continuously\n",
    "\n",
    "async def main():\n",
    "\n",
    "    # Define the OSC addresses\n",
    "    osc_addresses = [\"/aud\", \"/brs\", \"/conductor\", \"/vn1\"]\n",
    "\n",
    "    # Set the OSC server IP and port\n",
    "    osc_ip = \"127.0.0.1\"\n",
    "    osc_port = 13000\n",
    "\n",
    "    # Create FIFO buffers for each OSC address\n",
    "    ecg_buffer_dict = {address: FIFOBuffer(256) for address in osc_addresses}\n",
    "    qrs_buffer_dict = {address: FIFOBuffer(256) for address in osc_addresses}\n",
    "\n",
    "    # Set up the OSC server to listen for incoming messages\n",
    "    setup_osc_server(osc_ip, osc_port, osc_addresses, ecg_buffer_dict)\n",
    "\n",
    "    # Start the command listener task\n",
    "    task_commands = asyncio.create_task(listen_for_commands())\n",
    "\n",
    "    # Start the OSC loop to process incoming messages\n",
    "    task_osc_loop = asyncio.create_task(osc_loop())\n",
    "\n",
    "    # Start the QRS transform task\n",
    "    task_qrs_transform = asyncio.create_task(transform_signals_qrs(ecg_buffer_dict, qrs_buffer_dict, osc_addresses))\n",
    "\n",
    "    all_tasks = [task_commands, task_osc_loop, task_qrs_transform]\n",
    "\n",
    "    await asyncio.gather(*all_tasks)"
   ]
  },
  {
   "cell_type": "markdown",
   "id": "5a06bbec",
   "metadata": {},
   "source": [
    "We would also like to derive the heart rate from these **QRS** buffers, so will create an additional function to do this through peak detection and place these into a further set of buffers. We will only derive the heart rate once per second, using the ```transform_tick``` method."
   ]
  },
  {
   "cell_type": "code",
   "execution_count": null,
   "id": "198a2ea0",
   "metadata": {},
   "outputs": [],
   "source": [
    "from derivation.heart_rate import heart_rate # heart rate derivation function - finds peaks in a signal averaged over a window\n",
    "\n",
    "async def transform_signals_qrs(ecg_buffer_dict, qrs_buffer_dict, osc_addresses):\n",
    "\n",
    "    ecg_filt_low = 5 # low cutoff frequency for bandpass filter in pan_tompkins\n",
    "    ecg_filt_high = 12 # high cutoff frequency for bandpass filter in pan_tompkins\n",
    "    ecg_window = 0.15 # window size in seconds for pan_tompkins\n",
    "    ecg_sr = 256 # sampling frequency for pan_tompkins\n",
    "    \n",
    "    while True:\n",
    "        ecg_buffer_dict = ecg_buffer_dict.copy()  # Create a copy of the current state of the buffers to avoid race conditions\n",
    "        for address in osc_addresses:\n",
    "            if ecg_buffer_dict[address].is_full(): # ensure there is enough data in the buffer to perform the transform\n",
    "                \n",
    "                # apply the QRS transform to the ECG buffer and enqueue the result in the QRS\n",
    "                result = ecg_buffer_dict[address].transform_tick(\n",
    "                    functions = [pan_tompkins],\n",
    "                    args = [(ecg_filt_low, ecg_filt_high, ecg_window, ecg_sr)],\n",
    "                    kwargs = [{}],\n",
    "                    mode = \"update\"\n",
    "                )\n",
    "                if result is not None: # check if the transform was applied\n",
    "                    qrs_buffer_dict[address].enqueue(result) # enqueue the result in the QRS buffer\n",
    "\n",
    "        await asyncio.sleep(0) # yield control to the event loop continuously\n",
    "\n",
    "async def derive_heart_rate(qrs_buffer_dict, heart_rate_buffer_dict, osc_addresses):\n",
    "\n",
    "    hr_window = 1 # window size in seconds for heart rate derivation\n",
    "    ecg_sr = 256 # sampling frequency for heart rate derivation\n",
    "\n",
    "    while True:\n",
    "        qrs_buffer_dict = qrs_buffer_dict.copy()  # Create a copy of the current state of the buffers to avoid race conditions\n",
    "        for address in osc_addresses:\n",
    "            if qrs_buffer_dict[address].is_full(): # ensure there is enough data in the buffer to derive the heart rate\n",
    "                result = qrs_buffer_dict[address].transform_tick(\n",
    "                    functions = [heart_rate],\n",
    "                    args = [(hr_window, ecg_sr)],\n",
    "                    kwargs = [{}],\n",
    "                    mode = \"time\",\n",
    "                    interval=1000,  # 1 second interval for heart rate calculation\n",
    "                    output_indices=[1]  # specify the output index for the heart rate\n",
    "                )\n",
    "                if result is not None:  # check if the transform was applied\n",
    "                    heart_rate_buffer_dict[address].enqueue(result) # enqueue the result in the heart rate buffer\n",
    "\n",
    "        await asyncio.sleep(0) # yield control to the event loop continuously\n",
    "\n",
    "\n",
    "async def main():\n",
    "\n",
    "    # Define the OSC addresses\n",
    "    osc_addresses = [\"/aud\", \"/brs\", \"/conductor\", \"/vn1\"]\n",
    "\n",
    "    # Set the OSC server IP and port\n",
    "    osc_ip = \"127.0.0.1\"\n",
    "    osc_port = 13000\n",
    "\n",
    "    # Create FIFO buffers for each OSC address\n",
    "    ecg_buffer_dict = {address: FIFOBuffer(256) for address in osc_addresses}\n",
    "    qrs_buffer_dict = {address: FIFOBuffer(256) for address in osc_addresses}\n",
    "    heart_rate_buffer_dict = {address: FIFOBuffer(10) for address in osc_addresses} # heart rate buffers take the previous 10 derived heart rates\n",
    "\n",
    "    # Set up the OSC server to listen for incoming messages\n",
    "    setup_osc_server(osc_ip, osc_port, osc_addresses, ecg_buffer_dict)\n",
    "\n",
    "    # Start the command listener task\n",
    "    task_commands = asyncio.create_task(listen_for_commands())\n",
    "\n",
    "    # Start the OSC loop to process incoming messages\n",
    "    task_osc_loop = asyncio.create_task(osc_loop())\n",
    "\n",
    "    # Start the QRS transform task\n",
    "    task_qrs_transform = asyncio.create_task(transform_signals_qrs(ecg_buffer_dict, qrs_buffer_dict, osc_addresses))\n",
    "\n",
    "    # Start the heart rate derivation task\n",
    "    task_heart_rate = asyncio.create_task(derive_heart_rate(qrs_buffer_dict, heart_rate_buffer_dict, osc_addresses))\n",
    "\n",
    "    all_tasks = [task_commands, task_osc_loop, task_qrs_transform, task_heart_rate]\n",
    "\n",
    "    await asyncio.gather(*all_tasks)"
   ]
  },
  {
   "cell_type": "markdown",
   "id": "e3b5eddb",
   "metadata": {},
   "source": [
    "## 4 Generating a Lighting Design on the Organ LEDs\n",
    "\n",
    "Now that we have have data coming into our ```FIFOBuffers```, are applying transforms to the buffers, and deriving features from the transforms, we can start to consider how we can use these to drive changes in the stage lighting. In LightHearted, we can achieve this with two styles of mapping: **continuous mappings**, in which lighting parameters are continuously altered based up incoming signal data, and **trigger mappings**, in which events in the signal can be defined and used to tigger single actions. We will use both of these styles of mapping to drive changes in 14 LEDs located in the organ behind orchestra. We will use a continuous mapping to drive changes in the organ LED colours, interpolating between the derived heart rates of all four of the signals to create continuously shifting flows of colour across the LEDs. We will use a trigger mapping to generate changes in LED intensity based upon the detection of a peak in the buffer.\n",
    "\n",
    "Four new objects will be introduced in this section: ```LightingArray```, ```MappingArray```, ```ContinuousMapper```, and ```TriggerMapper```. The ```LightingArray``` object is key to both styles of mapping. For continuous mappings, it works together with the ```MappingArray``` and ```ContinuousMapper``` objects. For trigger mappings, it works together with the ```FIFOBuffer``` and ```TiggerMapper``` objects.\n",
    "\n",
    "### 4.1 Defining a Lighting Array\n",
    "\n",
    "The ```LightingArray``` object stores and sets colour and intensity parameters for a group of LED fixtures. It can also send commands to these fixtures to generate changes in the stage lighting. A ```LightingArray``` object can be instanced with just an array-like of fixture IDs. In our case, the organ LEDs are fixtures 401 to 414."
   ]
  },
  {
   "cell_type": "code",
   "execution_count": 14,
   "id": "8b8917ce",
   "metadata": {},
   "outputs": [
    {
     "name": "stdout",
     "output_type": "stream",
     "text": [
      "Organ LED Fixture IDs: [401 402 403 404 405 406 407 408 409 410 411 412 413 414]\n"
     ]
    }
   ],
   "source": [
    "from mapping.lighting_array import LightingArray\n",
    "\n",
    "organ_leds = LightingArray(np.arange(401, 415))  # Organ LEDs are fixtures 401 to 414\n",
    "print(f\"Organ LED Fixture IDs: {organ_leds.get_fixtures()}\")"
   ]
  },
  {
   "cell_type": "markdown",
   "id": "74465d8a",
   "metadata": {},
   "source": [
    "The ```LightingArray``` holds values for the red, green, blue, and white channel of each LED, as well as its intensity. Upon initialisation these are set to zero. We can view the current values using the ```get``` method, and change the values using the ```update``` method. Note that updating the values of a parameter requires passing an array-like with the shape of the entire ```LightingArray```."
   ]
  },
  {
   "cell_type": "code",
   "execution_count": 15,
   "id": "8b3848e4",
   "metadata": {},
   "outputs": [
    {
     "name": "stdout",
     "output_type": "stream",
     "text": [
      "Initial Intensity Values: [0. 0. 0. 0. 0. 0. 0. 0. 0. 0. 0. 0. 0. 0.]\n",
      "Initial Red Values: [0. 0. 0. 0. 0. 0. 0. 0. 0. 0. 0. 0. 0. 0.]\n",
      "Initial Green Values: [0. 0. 0. 0. 0. 0. 0. 0. 0. 0. 0. 0. 0. 0.]\n",
      "Initial Blue Values: [0. 0. 0. 0. 0. 0. 0. 0. 0. 0. 0. 0. 0. 0.]\n",
      "Initial White Values: [0. 0. 0. 0. 0. 0. 0. 0. 0. 0. 0. 0. 0. 0.]\n",
      "Initial RGB Values: (array([0., 0., 0., 0., 0., 0., 0., 0., 0., 0., 0., 0., 0., 0.]), array([0., 0., 0., 0., 0., 0., 0., 0., 0., 0., 0., 0., 0., 0.]), array([0., 0., 0., 0., 0., 0., 0., 0., 0., 0., 0., 0., 0., 0.]))\n",
      "Initial RGBW Values: (array([0., 0., 0., 0., 0., 0., 0., 0., 0., 0., 0., 0., 0., 0.]), array([0., 0., 0., 0., 0., 0., 0., 0., 0., 0., 0., 0., 0., 0.]), array([0., 0., 0., 0., 0., 0., 0., 0., 0., 0., 0., 0., 0., 0.]), array([0., 0., 0., 0., 0., 0., 0., 0., 0., 0., 0., 0., 0., 0.]))\n",
      "\n",
      "\n",
      "Updated Intensity Values: [100 100 100 100 100 100 100 100 100 100 100 100 100 100]\n",
      "Updated Red Values: [100 100 100 100 100 100 100 100 100 100 100 100 100 100]\n",
      "Updated Green Values: [100 100 100 100 100 100 100 100 100 100 100 100 100 100]\n",
      "Updated Blue Values: [100 100 100 100 100 100 100 100 100 100 100 100 100 100]\n",
      "Updated White Values: [100 100 100 100 100 100 100 100 100 100 100 100 100 100]\n",
      "Updated RGB Values: (array([100, 100, 100, 100, 100, 100, 100, 100, 100, 100, 100, 100, 100,\n",
      "       100]), array([100, 100, 100, 100, 100, 100, 100, 100, 100, 100, 100, 100, 100,\n",
      "       100]), array([100, 100, 100, 100, 100, 100, 100, 100, 100, 100, 100, 100, 100,\n",
      "       100]))\n",
      "Updated RGBW Values: (array([100, 100, 100, 100, 100, 100, 100, 100, 100, 100, 100, 100, 100,\n",
      "       100]), array([100, 100, 100, 100, 100, 100, 100, 100, 100, 100, 100, 100, 100,\n",
      "       100]), array([100, 100, 100, 100, 100, 100, 100, 100, 100, 100, 100, 100, 100,\n",
      "       100]), array([100, 100, 100, 100, 100, 100, 100, 100, 100, 100, 100, 100, 100,\n",
      "       100]))\n"
     ]
    }
   ],
   "source": [
    "# get initial intensity values\n",
    "print(f\"Initial Intensity Values: {organ_leds.get_intensities()}\")\n",
    "\n",
    "# get initial red values\n",
    "print(f\"Initial Red Values: {organ_leds.get_red()}\")\n",
    "\n",
    "# get initial green values\n",
    "print(f\"Initial Green Values: {organ_leds.get_green()}\")\n",
    "\n",
    "# get initial blue values\n",
    "print(f\"Initial Blue Values: {organ_leds.get_blue()}\")\n",
    "\n",
    "# get initial white values\n",
    "print(f\"Initial White Values: {organ_leds.get_white()}\")\n",
    "\n",
    "# get initial RGB values packaged together\n",
    "print(f\"Initial RGB Values: {organ_leds.get_rgb()}\")\n",
    "\n",
    "# get RGBW values packaged together\n",
    "print(f\"Initial RGBW Values: {organ_leds.get_rgbw()}\")\n",
    "print(\"\\n\")\n",
    "\n",
    "# update the intensity values\n",
    "organ_leds.update_intensities(np.full(14, 100))  # Set all intensities to 100\n",
    "print(f\"Updated Intensity Values: {organ_leds.get_intensities()}\")\n",
    "\n",
    "# update the red values\n",
    "organ_leds.update_red(np.full(14, 100))  # Set red values to 100\n",
    "print(f\"Updated Red Values: {organ_leds.get_red()}\")\n",
    "\n",
    "# update the green values\n",
    "organ_leds.update_green(np.full(14, 100))  # Set green values to 100\n",
    "print(f\"Updated Green Values: {organ_leds.get_green()}\")\n",
    "\n",
    "# update the blue values\n",
    "organ_leds.update_blue(np.full(14, 100))  # Set blue values to 100\n",
    "print(f\"Updated Blue Values: {organ_leds.get_blue()}\")\n",
    "\n",
    "# update the white values\n",
    "organ_leds.update_white(np.full(14, 100))  # Set white values to 100\n",
    "print(f\"Updated White Values: {organ_leds.get_white()}\")\n",
    "\n",
    "# update the RGB values\n",
    "organ_leds.update_rgb(np.full(14, 100), np.full(14, 100), np.full(14, 100))  # Set all RGB values to 100\n",
    "print(f\"Updated RGB Values: {organ_leds.get_rgb()}\")\n",
    "\n",
    "# update the RGBW values\n",
    "organ_leds.update_rgbw(np.full(14, 100), np.full(14, 100), np.full(14, 100), np.full(14, 100))  # Set all RGBW values to 100\n",
    "print(f\"Updated RGBW Values: {organ_leds.get_rgbw()}\")"
   ]
  },
  {
   "cell_type": "markdown",
   "id": "8955fbaf",
   "metadata": {},
   "source": [
    "In order to generate transitions between parameter values, the ```LightingArray``` also stores the previous values for each parameter, which can be accessed using the ```get_previous``` method."
   ]
  },
  {
   "cell_type": "code",
   "execution_count": 16,
   "id": "1726f474",
   "metadata": {},
   "outputs": [
    {
     "name": "stdout",
     "output_type": "stream",
     "text": [
      "Current Intensity Values: [50 50 50 50 50 50 50 50 50 50 50 50 50 50]\n",
      "Current RGBW Values: (array([50, 50, 50, 50, 50, 50, 50, 50, 50, 50, 50, 50, 50, 50]), array([50, 50, 50, 50, 50, 50, 50, 50, 50, 50, 50, 50, 50, 50]), array([50, 50, 50, 50, 50, 50, 50, 50, 50, 50, 50, 50, 50, 50]), array([50, 50, 50, 50, 50, 50, 50, 50, 50, 50, 50, 50, 50, 50]))\n",
      "Previous Intensity Values: [0. 0. 0. 0. 0. 0. 0. 0. 0. 0. 0. 0. 0. 0.]\n",
      "Previous RGBW Values: (array([0., 0., 0., 0., 0., 0., 0., 0., 0., 0., 0., 0., 0., 0.]), array([0., 0., 0., 0., 0., 0., 0., 0., 0., 0., 0., 0., 0., 0.]), array([0., 0., 0., 0., 0., 0., 0., 0., 0., 0., 0., 0., 0., 0.]), array([0., 0., 0., 0., 0., 0., 0., 0., 0., 0., 0., 0., 0., 0.]))\n"
     ]
    }
   ],
   "source": [
    "# set intensity and RBGW values to zero\n",
    "organ_leds.update_intensities(np.zeros(14))  # Set all intensities to 0\n",
    "organ_leds.update_rgbw(np.zeros(14), np.zeros(14), np.zeros(14), np.zeros(14))  # Set all RGBW values to 0\n",
    "\n",
    "# set intensity and RGBW values to 50\n",
    "organ_leds.update_intensities(np.full(14, 50))  # Set all intensities to 50\n",
    "organ_leds.update_rgbw(np.full(14, 50), np.full(14, 50), np.full(14, 50), np.full(14, 50))  # Set all RGBW values to 50\n",
    "\n",
    "# print current values\n",
    "print(f\"Current Intensity Values: {organ_leds.get_intensities()}\")\n",
    "print(f\"Current RGBW Values: {organ_leds.get_rgbw()}\")\n",
    "\n",
    "# print previous values\n",
    "print(f\"Previous Intensity Values: {organ_leds.get_previous_intensities()}\")\n",
    "print(f\"Previous RGBW Values: {organ_leds.get_previous_rgbw()}\")"
   ]
  },
  {
   "cell_type": "markdown",
   "id": "da2b9deb",
   "metadata": {},
   "source": [
    "Commands can be sent to the lighting desk installed in the concert hall using the ```send_command``` method. This takes a Python and function and the function's arguments as its arguments. We can import a suite of commands from the ```communication``` module. Currently a suite of commands is available for the **GrandMA3** lighting desk, but in the future we plan to add modules for additional desks and the more general DMX protocol. We must also initiate an OSC client to send the messages (which is passed to the command function). This can be done using the ```initiate_client``` method. Let's send a single command to change the RGBW values using the ```format_RGBW``` command."
   ]
  },
  {
   "cell_type": "code",
   "execution_count": null,
   "id": "23e52413",
   "metadata": {},
   "outputs": [],
   "source": [
    "from utils.utils import initiate_client\n",
    "from communication.grandma3_osc import *\n",
    "\n",
    "# initiate the OSC client\n",
    "lighting_ip = \"192.0.0.1\"\n",
    "lighting_port = 12000\n",
    "\n",
    "lighting_client = initiate_client(lighting_ip, lighting_port)\n",
    "\n",
    "organ_leds.send_command(format_RGBW, # function\n",
    "                        fixtures = organ_leds.get_fixtures(), # first argument - fixture IDs\n",
    "                        r = organ_leds.get_red(), # second argument - red values\n",
    "                        g = organ_leds.get_green(), # third argument - green values\n",
    "                        b = organ_leds.get_blue(), # fourth argument - blue values\n",
    "                        w = organ_leds.get_white(), # fifth argument - white values\n",
    "                        client = lighting_client) # sixth argument - OSC client"
   ]
  },
  {
   "cell_type": "markdown",
   "id": "6ad10774",
   "metadata": {},
   "source": [
    "We can also ramp between the previous RGBW values and the current RGBW values over 10 seconds using the ```ramp_RGBW``` command."
   ]
  },
  {
   "cell_type": "code",
   "execution_count": null,
   "id": "b529caef",
   "metadata": {},
   "outputs": [],
   "source": [
    "organ_leds.send_command(ramp_RGBW, # function\n",
    "                        duration = 10, # first argument - duration in seconds for ramping\n",
    "                        step_time = 1, # second argument - time in seconds for each step, i.e. how often update RGBW commands are sent, in this case once per second\n",
    "                        fixtures = organ_leds.get_fixtures(), # third argument - fixture IDs\n",
    "                        r_start = organ_leds.get_previous_red(), # fourth argument - starting red values\n",
    "                        r_end = organ_leds.get_red(), # fifth argument - ending red values\n",
    "                        g_start = organ_leds.get_previous_green(), # sixth argument - starting green values\n",
    "                        g_end = organ_leds.get_green(), # seventh argument - ending green values\n",
    "                        b_start = organ_leds.get_previous_blue(), # eighth argument - starting blue values\n",
    "                        b_end = organ_leds.get_blue(), # ninth argument - ending blue values\n",
    "                        w_start = organ_leds.get_previous_white(), # tenth argument - starting white values\n",
    "                        w_end = organ_leds.get_white(), # eleventh argument - ending white values\n",
    "                        client = lighting_client) # twelfth argument - OSC client"
   ]
  },
  {
   "cell_type": "markdown",
   "id": "139d7087",
   "metadata": {},
   "source": [
    "The full suite of commands can be found in the [documentation](documentation.md#communicationgrandma3_oscpy). This includes commands, for example, to change intensity values, including higher order commands such as pulsing and ramping. In the case that the command to send is asynchronous, the ```LightingArray.send_command``` call must also be awaited.\n",
    "\n",
    "We can add our ```LightingArray``` and our client into the main script."
   ]
  },
  {
   "cell_type": "code",
   "execution_count": null,
   "id": "fe450d56",
   "metadata": {},
   "outputs": [],
   "source": [
    "async def transform_signals_qrs(ecg_buffer_dict, qrs_buffer_dict, osc_addresses):\n",
    "\n",
    "    ecg_filt_low = 5 # low cutoff frequency for bandpass filter in pan_tompkins\n",
    "    ecg_filt_high = 12 # high cutoff frequency for bandpass filter in pan_tompkins\n",
    "    ecg_window = 0.15 # window size in seconds for pan_tompkins\n",
    "    ecg_sr = 256 # sampling frequency for pan_tompkins\n",
    "    \n",
    "    while True:\n",
    "        ecg_buffer_dict = ecg_buffer_dict.copy()  # Create a copy of the current state of the buffers to avoid race conditions\n",
    "        for address in osc_addresses:\n",
    "            if ecg_buffer_dict[address].is_full(): # ensure there is enough data in the buffer to perform the transform\n",
    "                \n",
    "                # apply the QRS transform to the ECG buffer and enqueue the result in the QRS\n",
    "                result = ecg_buffer_dict[address].transform_tick(\n",
    "                    functions = [pan_tompkins],\n",
    "                    args = [(ecg_filt_low, ecg_filt_high, ecg_window, ecg_sr)],\n",
    "                    kwargs = [{}],\n",
    "                    mode = \"update\"\n",
    "                )\n",
    "                if result is not None: # check if the transform was applied\n",
    "                    qrs_buffer_dict[address].enqueue(result) # enqueue the result in the QRS buffer\n",
    "\n",
    "        await asyncio.sleep(0) # yield control to the event loop continuously\n",
    "\n",
    "async def derive_heart_rate(qrs_buffer_dict, heart_rate_buffer_dict, osc_addresses):\n",
    "\n",
    "    hr_window = 1 # window size in seconds for heart rate derivation\n",
    "    ecg_sr = 256 # sampling frequency for heart rate derivation\n",
    "\n",
    "    while True:\n",
    "        qrs_buffer_dict = qrs_buffer_dict.copy()  # Create a copy of the current state of the buffers to avoid race conditions\n",
    "        for address in osc_addresses:\n",
    "            if qrs_buffer_dict[address].is_full(): # ensure there is enough data in the buffer to derive the heart rate\n",
    "                result = qrs_buffer_dict[address].transform_tick(\n",
    "                    functions = [heart_rate],\n",
    "                    args = [(hr_window, ecg_sr)],\n",
    "                    kwargs = [{}],\n",
    "                    mode = \"time\",\n",
    "                    interval=1000,  # 1 second interval for heart rate calculation\n",
    "                    output_indices=[1]  # specify the output index for the heart rate\n",
    "                )\n",
    "                if result is not None:  # check if the transform was applied\n",
    "                    heart_rate_buffer_dict[address].enqueue(result) # enqueue the result in the heart rate buffer\n",
    "\n",
    "        await asyncio.sleep(0) # yield control to the event loop continuously\n",
    "\n",
    "\n",
    "async def main():\n",
    "\n",
    "    # Define the OSC addresses\n",
    "    osc_addresses = [\"/aud\", \"/brs\", \"/conductor\", \"/vn1\"]\n",
    "\n",
    "    # Set the OSC server IP and port\n",
    "    osc_ip = \"127.0.0.1\"\n",
    "    osc_port = 13000\n",
    "\n",
    "    # Set the lighting client IP and port\n",
    "    lighting_ip = \"192.0.0.1\"\n",
    "    lighting_port = 12000\n",
    "\n",
    "    # Create FIFO buffers for each OSC address\n",
    "    ecg_buffer_dict = {address: FIFOBuffer(256) for address in osc_addresses}\n",
    "    qrs_buffer_dict = {address: FIFOBuffer(256) for address in osc_addresses}\n",
    "    heart_rate_buffer_dict = {address: FIFOBuffer(10) for address in osc_addresses} # heart rate buffers take the previous 10 derived heart rates\n",
    "\n",
    "    # Set organ lighting array\n",
    "    organ_leds = LightingArray(np.arange(401, 415))  # Organ LEDs are fixtures 401 to 414\n",
    "\n",
    "    # Set up the OSC server to listen for incoming messages\n",
    "    setup_osc_server(osc_ip, osc_port, osc_addresses, ecg_buffer_dict)\n",
    "\n",
    "    # Set up the lighting client\n",
    "    lighting_client = initiate_client(lighting_ip, lighting_port)\n",
    "\n",
    "    # Start the command listener task\n",
    "    task_commands = asyncio.create_task(listen_for_commands())\n",
    "\n",
    "    # Start the OSC loop to process incoming messages\n",
    "    task_osc_loop = asyncio.create_task(osc_loop())\n",
    "\n",
    "    # Start the QRS transform task\n",
    "    task_qrs_transform = asyncio.create_task(transform_signals_qrs(ecg_buffer_dict, qrs_buffer_dict, osc_addresses))\n",
    "\n",
    "    # Start the heart rate derivation task\n",
    "    task_heart_rate = asyncio.create_task(derive_heart_rate(qrs_buffer_dict, heart_rate_buffer_dict, osc_addresses))\n",
    "\n",
    "    all_tasks = [task_commands, task_osc_loop, task_qrs_transform, task_heart_rate]\n",
    "\n",
    "    await asyncio.gather(*all_tasks)"
   ]
  },
  {
   "cell_type": "markdown",
   "id": "a20579cf",
   "metadata": {},
   "source": [
    "Now that we have our LEDs defined, we can work on bridging the signal and feature buffers to the lighting parameters. We will first start by creating a continuous mapping.\n",
    "\n",
    "### 4.2 Generating Changes in Colour with a Continuous Mapping\n",
    "\n",
    "We can start by considering how we would like to consider our ECG signals as a resource to enact continuous changes in colour on the LEDs. Ideally we would like to use all four of our signals to generate continuous flows of colour across the LEDs. However, there is a mismatch in the shape of the signals and the LED array that we have. We have four signal buffers, each with a temporal length of 256 samples, consisting of a single channel. Similarly, we have 4 heart rate buffers with a temporal length of 10 averaged heart rates. However, our lighting array consists of 14 LEDs, each of which should have three channels of a single value. In a sense, we can view our handling of our signal resources as reconcilling these shapes. For this, we will make use of two objects: the ```MappingArray``` to handle reconciling spatial and temporal differences, and the ```ContinuousMapper``` to handle the differences in the numbers of channels. We will also use the ```ContinuousMapper``` to define the relationship between the buffer data and the lighting parameters. We will use the derived heart rate buffers as our source material. It should be noted that the uses of the ```MappingArray``` and ```ContinuousMapper``` here are intended to be exemplars. However, they are flexible in their use and do not necessarily have to follow the procedure detailed here. It is worthwhile exploring how they can be used in different ways.\n",
    "\n",
    "#### 4.2.1 Defining a Mapping Array\n",
    "\n",
    "The main function of the ```MappingArray``` object is to derive an array of single values in the shape of a lighting array from a dictionary of multiple ```FIFOBuffers```. At initialisation, it takes a dictionary of ```FIFOBuffers```, which we can imagine being spatially positioned within the ```MappingArray``` from left to right."
   ]
  },
  {
   "cell_type": "code",
   "execution_count": 32,
   "id": "c6c69a27",
   "metadata": {},
   "outputs": [
    {
     "name": "stdout",
     "output_type": "stream",
     "text": [
      "Address: /aud Heart Rate Buffer: [77. 66. 71. 91. 99. 83. 86. 92. 80. 73.]\n",
      "Address: /brs Heart Rate Buffer: [80. 92. 96. 78. 68. 94. 67. 96. 86. 82.]\n",
      "Address: /conductor Heart Rate Buffer: [71. 61. 83. 69. 74. 73. 84. 65. 66. 69.]\n",
      "Address: /vn1 Heart Rate Buffer: [60. 94. 78. 94. 76. 86. 90. 82. 74. 87.]\n"
     ]
    }
   ],
   "source": [
    "from derivation.mapping_array import MappingArray\n",
    "\n",
    "# Instatiate FIFOBuffers for organ mapping\n",
    "\n",
    "heart_rate_buffer_dict = {address: FIFOBuffer(10) for address in osc_addresses}\n",
    "\n",
    "for heart_rate_buffer in heart_rate_buffer_dict.values():\n",
    "    heart_rate_buffer.enqueue(np.random.randint(60, 100, size=10))  # Fill with random heart rates for testing\n",
    "\n",
    "for key, item in heart_rate_buffer_dict.items():\n",
    "    print(f\"Address: {key} Heart Rate Buffer: {item.get_buffer()}\")\n",
    "\n",
    "# Create a MappingArray instance for organ mapping using the heart rate buffers\n",
    "\n",
    "organ_mapping_array = MappingArray(heart_rate_buffer_dict)"
   ]
  },
  {
   "cell_type": "markdown",
   "id": "83adfa46",
   "metadata": {},
   "source": [
    "We can get the position of each of the ```FIFOBuffers``` within the ```MappingArray``` using the ```get_positions``` method."
   ]
  },
  {
   "cell_type": "code",
   "execution_count": 33,
   "id": "30a6567d",
   "metadata": {},
   "outputs": [
    {
     "name": "stdout",
     "output_type": "stream",
     "text": [
      "Positions: ['/aud', '/brs', '/conductor', '/vn1']\n"
     ]
    }
   ],
   "source": [
    "print(f\"Positions: {organ_mapping_array.get_positions()}\")"
   ]
  },
  {
   "cell_type": "markdown",
   "id": "ce3a5031",
   "metadata": {},
   "source": [
    "We can change the positions with the ```set_positions``` method, which takes a dictionary where the keys are the addresses and the values are their position."
   ]
  },
  {
   "cell_type": "code",
   "execution_count": 34,
   "id": "a1f0c9f3",
   "metadata": {},
   "outputs": [
    {
     "name": "stdout",
     "output_type": "stream",
     "text": [
      "Updated Positions: ['/vn1', '/aud', '/brs', '/conductor']\n"
     ]
    }
   ],
   "source": [
    "new_positions = { # shift each buffer to the right by one position\n",
    "    \"/aud\": 1,\n",
    "    \"/brs\": 2,\n",
    "    \"/conductor\": 3,\n",
    "    \"/vn1\": 0\n",
    "}\n",
    "\n",
    "organ_mapping_array.set_positions(new_positions)\n",
    "print(f\"Updated Positions: {organ_mapping_array.get_positions()}\")"
   ]
  },
  {
   "cell_type": "markdown",
   "id": "c2612fd5",
   "metadata": {},
   "source": [
    "For each position in the ```MappingArray``` we only have a single value. At initialisation, this value is zero for the entire array. We can get the values with the ```get_values``` method."
   ]
  },
  {
   "cell_type": "code",
   "execution_count": 35,
   "id": "7b7e939f",
   "metadata": {},
   "outputs": [
    {
     "name": "stdout",
     "output_type": "stream",
     "text": [
      "Values: [0. 0. 0. 0.]\n"
     ]
    }
   ],
   "source": [
    "print(f\"Values: {organ_mapping_array.get_values()}\")"
   ]
  },
  {
   "cell_type": "markdown",
   "id": "2e48eda4",
   "metadata": {},
   "source": [
    "We can also get specific values for addresses using the addresses with the ```get_values``` method."
   ]
  },
  {
   "cell_type": "code",
   "execution_count": 36,
   "id": "dedd290a",
   "metadata": {},
   "outputs": [
    {
     "name": "stdout",
     "output_type": "stream",
     "text": [
      "Conductor Value: [0.]\n",
      "Conductor and Brass Value: [0. 0.]\n"
     ]
    }
   ],
   "source": [
    "print(f\"Conductor Value: {organ_mapping_array.get_values(['/conductor'])}\")\n",
    "print(f\"Conductor and Brass Value: {organ_mapping_array.get_values(['/conductor', '/brs'])}\")"
   ]
  },
  {
   "cell_type": "markdown",
   "id": "3b57f0be",
   "metadata": {},
   "source": [
    "#### 4.2.2 Updating the Mapping Array Values\n",
    "\n",
    "We can set the values of the array using the ```update_array``` method. This method takes a series of **reduction functions** and their corresponding arguments or keyword arguments, with functionality identical to the ```transform``` method of the ```FIFOBuffer```. We can show several examples of its usage below."
   ]
  },
  {
   "cell_type": "code",
   "execution_count": 37,
   "id": "310d41d1",
   "metadata": {},
   "outputs": [
    {
     "name": "stdout",
     "output_type": "stream",
     "text": [
      "Address: /aud Heart Rate Buffer: [77. 66. 71. 91. 99. 83. 86. 92. 80. 73.]\n",
      "Address: /brs Heart Rate Buffer: [80. 92. 96. 78. 68. 94. 67. 96. 86. 82.]\n",
      "Address: /conductor Heart Rate Buffer: [71. 61. 83. 69. 74. 73. 84. 65. 66. 69.]\n",
      "Address: /vn1 Heart Rate Buffer: [60. 94. 78. 94. 76. 86. 90. 82. 74. 87.]\n",
      "MappingArray Positions: ['/vn1', '/aud', '/brs', '/conductor']\n",
      "MappingArray Values: [0. 0. 0. 0.]\n",
      "\n",
      "\n",
      "Updated MappingArray Values (mean): [82.1 81.8 83.9 71.5]\n",
      "Updated MappingArray Values (first value): [60. 77. 80. 71.]\n",
      "Updated MappingArray Values (sum of derivative): [27. -4.  2. -2.]\n",
      "Updated MappingArray Values (with output indices): [82.1 81.8 83.9 71.5]\n"
     ]
    }
   ],
   "source": [
    "# print the values of the heart rate buffers\n",
    "for key, item in heart_rate_buffer_dict.items():\n",
    "    print(f\"Address: {key} Heart Rate Buffer: {item.get_buffer()}\")\n",
    "\n",
    "# print the current positions and values of the organ mapping array\n",
    "print(f\"MappingArray Positions: {organ_mapping_array.get_positions()}\")\n",
    "print(f\"MappingArray Values: {organ_mapping_array.get_values()}\")\n",
    "print(\"\\n\")\n",
    "\n",
    "# take the mean of the heart rate buffers and update the organ mapping array values\n",
    "functions = [np.mean]\n",
    "args = [()]\n",
    "kwargs = [{}]\n",
    "# apply the transform method to the organ mapping array\n",
    "organ_mapping_array.update_array(\n",
    "    reduction_functions=functions,\n",
    "    args_list=args,\n",
    "    kwargs_list=kwargs)\n",
    "\n",
    "print(f\"Updated MappingArray Values (mean): {organ_mapping_array.get_values()}\")\n",
    "\n",
    "# take the first value of the heart rate buffers and update the organ mapping array values\n",
    "functions = [lambda x: x[0]]  # lambda function to take the first value\n",
    "args = [()]\n",
    "kwargs = [{}]\n",
    "# apply the transform method to the organ mapping array\n",
    "organ_mapping_array.update_array(\n",
    "    reduction_functions=functions,\n",
    "    args_list=args,\n",
    "    kwargs_list=kwargs)\n",
    "print(f\"Updated MappingArray Values (first value): {organ_mapping_array.get_values()}\")\n",
    "\n",
    "# take the sum of the derivate of the heart rate buffers and update the organ mapping array values\n",
    "functions = [np.diff, np.sum]\n",
    "args = [(), ()]\n",
    "kwargs = [{}, {}]\n",
    "# apply the transform method to the organ mapping array\n",
    "organ_mapping_array.update_array(\n",
    "    reduction_functions=functions,\n",
    "    args_list=args,\n",
    "    kwargs_list=kwargs)\n",
    "print(f\"Updated MappingArray Values (sum of derivative): {organ_mapping_array.get_values()}\")\n",
    "\n",
    "# use the output indices to specify which output of the functions to use\n",
    "def add_some_additional_returns(data):\n",
    "    return None, None, data\n",
    "functions = [add_some_additional_returns, np.mean]\n",
    "args = [(), ()]\n",
    "kwargs = [{}, {}]\n",
    "output_indices = [2, None]  # Use the third output of the first function and the first output of the second function\n",
    "# apply the transform method to the organ mapping array with output indices\n",
    "organ_mapping_array.update_array(\n",
    "    reduction_functions=functions,\n",
    "    args_list=args,\n",
    "    kwargs_list=kwargs,\n",
    "    output_indices=output_indices)\n",
    "print(f\"Updated MappingArray Values (with output indices): {organ_mapping_array.get_values()}\")\n"
   ]
  },
  {
   "cell_type": "markdown",
   "id": "19581191",
   "metadata": {},
   "source": [
    "Similar to the ```FIFOBuffer.transform_tick```, there is likewise an ```update_array_tick``` method. This operates identically to the ```transform_tick``` method. However there are a few things to note. First, when running in ```update``` mode, the ```MappingArray``` inherits its update status from the ```FIFOBuffers```. This means that the reduction functions are applied whenever one of the ```FIFOBuffers``` in the dictionary are updated. Second, the ```FIFOBuffer``` returns the transformed buffer, whereas the ```MappingArray``` updates in places. This means that the check for a ```None``` return to trigger further code than can be used with the ```transform_tick``` method is not applicable. Instead, the ```MappingArray``` has an internal Boolean variable ```updated``` that can be used as a check."
   ]
  },
  {
   "cell_type": "code",
   "execution_count": 38,
   "id": "d41ad591",
   "metadata": {},
   "outputs": [
    {
     "name": "stdout",
     "output_type": "stream",
     "text": [
      "Conductor Buffer [71. 61. 83. 69. 74. 73. 84. 65. 66. 69.]\n",
      "Data to Enqueue in Conductor Buffer: [90 91 92 93 94 95 96 97 98 99]\n",
      "\n",
      "\n",
      "Time Value Added to Conductor Buffer: 0 seconds\n",
      "Conductor Buffer Updated: [61. 83. 69. 74. 73. 84. 65. 66. 69. 90.]\n",
      "Time MappingArray Values Updated: 0 seconds\n",
      "MappingArray Conductor Value Updated: [61.]\n",
      "\n",
      "\n"
     ]
    },
    {
     "name": "stdout",
     "output_type": "stream",
     "text": [
      "Time Value Added to Conductor Buffer: 1 seconds\n",
      "Conductor Buffer Updated: [83. 69. 74. 73. 84. 65. 66. 69. 90. 91.]\n",
      "Time MappingArray Values Updated: 1 seconds\n",
      "MappingArray Conductor Value Updated: [83.]\n",
      "\n",
      "\n",
      "Time Value Added to Conductor Buffer: 2 seconds\n",
      "Conductor Buffer Updated: [69. 74. 73. 84. 65. 66. 69. 90. 91. 92.]\n",
      "Time MappingArray Values Updated: 2 seconds\n",
      "MappingArray Conductor Value Updated: [69.]\n",
      "\n",
      "\n",
      "Time Value Added to Conductor Buffer: 3 seconds\n",
      "Conductor Buffer Updated: [74. 73. 84. 65. 66. 69. 90. 91. 92. 93.]\n",
      "Time MappingArray Values Updated: 3 seconds\n",
      "MappingArray Conductor Value Updated: [74.]\n",
      "\n",
      "\n",
      "Time Value Added to Conductor Buffer: 4 seconds\n",
      "Conductor Buffer Updated: [73. 84. 65. 66. 69. 90. 91. 92. 93. 94.]\n",
      "Time MappingArray Values Updated: 4 seconds\n",
      "MappingArray Conductor Value Updated: [73.]\n",
      "\n",
      "\n",
      "Time Value Added to Conductor Buffer: 5 seconds\n",
      "Conductor Buffer Updated: [84. 65. 66. 69. 90. 91. 92. 93. 94. 95.]\n",
      "Time MappingArray Values Updated: 5 seconds\n",
      "MappingArray Conductor Value Updated: [84.]\n",
      "\n",
      "\n",
      "Time Value Added to Conductor Buffer: 6 seconds\n",
      "Conductor Buffer Updated: [65. 66. 69. 90. 91. 92. 93. 94. 95. 96.]\n",
      "Time MappingArray Values Updated: 6 seconds\n",
      "MappingArray Conductor Value Updated: [65.]\n",
      "\n",
      "\n",
      "Time Value Added to Conductor Buffer: 7 seconds\n",
      "Conductor Buffer Updated: [66. 69. 90. 91. 92. 93. 94. 95. 96. 97.]\n",
      "Time MappingArray Values Updated: 7 seconds\n",
      "MappingArray Conductor Value Updated: [66.]\n",
      "\n",
      "\n",
      "Time Value Added to Conductor Buffer: 8 seconds\n",
      "Conductor Buffer Updated: [69. 90. 91. 92. 93. 94. 95. 96. 97. 98.]\n",
      "Time MappingArray Values Updated: 8 seconds\n",
      "MappingArray Conductor Value Updated: [69.]\n",
      "\n",
      "\n",
      "Time Value Added to Conductor Buffer: 9 seconds\n",
      "Conductor Buffer Updated: [90. 91. 92. 93. 94. 95. 96. 97. 98. 99.]\n",
      "Time MappingArray Values Updated: 9 seconds\n",
      "MappingArray Conductor Value Updated: [90.]\n",
      "\n",
      "\n"
     ]
    }
   ],
   "source": [
    "# update a FIFOBuffer once per second and check when MappingArray values update (reducing to first value)\n",
    "\n",
    "start_time = time.perf_counter()\n",
    "duration = 10  # Run for 10 seconds\n",
    "second_trigger = -1\n",
    "\n",
    "print(f\"Conductor Buffer {heart_rate_buffer_dict['/conductor'].get_buffer()}\")\n",
    "\n",
    "functions = [lambda x: x[0]]\n",
    "args = [()]\n",
    "kwargs = [{}]\n",
    "\n",
    "data_to_enqueue = np.arange(90, 100)\n",
    "print(f\"Data to Enqueue in Conductor Buffer: {data_to_enqueue}\")\n",
    "print(\"\\n\")\n",
    "\n",
    "while time.perf_counter() - start_time < duration:\n",
    "\n",
    "    elapsed = int(time.perf_counter() - start_time)\n",
    "    \n",
    "    if elapsed != second_trigger:  # Check if a second has passed and update the buffer\n",
    "        print(f\"Time Value Added to Conductor Buffer: {elapsed} seconds\")\n",
    "        heart_rate_buffer_dict['/conductor'].enqueue(data_to_enqueue[elapsed])\n",
    "        print(f\"Conductor Buffer Updated: {heart_rate_buffer_dict['/conductor'].get_buffer()}\")\n",
    "        # Update the second trigger to the current elapsed time\n",
    "        second_trigger = elapsed\n",
    "\n",
    "    # Update the MappingArray values\n",
    "    organ_mapping_array.update_array_tick(\n",
    "        reduction_functions=functions,\n",
    "        args_list=args,\n",
    "        kwargs_list=kwargs,\n",
    "        mode=\"update\"\n",
    "    )\n",
    "\n",
    "    if organ_mapping_array.updated: # check if the MappingArray values were updated\n",
    "        print(f\"Time MappingArray Values Updated: {elapsed} seconds\")\n",
    "        print(f\"MappingArray Conductor Value Updated: {organ_mapping_array.get_values(['/conductor'])}\")\n",
    "        print(\"\\n\")\n"
   ]
  },
  {
   "cell_type": "markdown",
   "id": "72022ee2",
   "metadata": {},
   "source": [
    "We can now add a ```MappingArray``` to our main script and set it to continuously update using the mean upon new data being enqued in the ```FIFOBuffers``` in another async function."
   ]
  },
  {
   "cell_type": "code",
   "execution_count": null,
   "id": "f0488c18",
   "metadata": {},
   "outputs": [],
   "source": [
    "async def transform_signals_qrs(ecg_buffer_dict, qrs_buffer_dict, osc_addresses):\n",
    "\n",
    "    ecg_filt_low = 5 # low cutoff frequency for bandpass filter in pan_tompkins\n",
    "    ecg_filt_high = 12 # high cutoff frequency for bandpass filter in pan_tompkins\n",
    "    ecg_window = 0.15 # window size in seconds for pan_tompkins\n",
    "    ecg_sr = 256 # sampling frequency for pan_tompkins\n",
    "    \n",
    "    while True:\n",
    "        ecg_buffer_dict = ecg_buffer_dict.copy()  # Create a copy of the current state of the buffers to avoid race conditions\n",
    "        for address in osc_addresses:\n",
    "            if ecg_buffer_dict[address].is_full(): # ensure there is enough data in the buffer to perform the transform\n",
    "                \n",
    "                # apply the QRS transform to the ECG buffer and enqueue the result in the QRS\n",
    "                result = ecg_buffer_dict[address].transform_tick(\n",
    "                    functions = [pan_tompkins],\n",
    "                    args = [(ecg_filt_low, ecg_filt_high, ecg_window, ecg_sr)],\n",
    "                    kwargs = [{}],\n",
    "                    mode = \"update\"\n",
    "                )\n",
    "                if result is not None: # check if the transform was applied\n",
    "                    qrs_buffer_dict[address].enqueue(result) # enqueue the result in the QRS buffer\n",
    "\n",
    "        await asyncio.sleep(0) # yield control to the event loop continuously\n",
    "\n",
    "async def derive_heart_rate(qrs_buffer_dict, heart_rate_buffer_dict, osc_addresses):\n",
    "\n",
    "    hr_window = 1 # window size in seconds for heart rate derivation\n",
    "    ecg_sr = 256 # sampling frequency for heart rate derivation\n",
    "\n",
    "    while True:\n",
    "        qrs_buffer_dict = qrs_buffer_dict.copy()  # Create a copy of the current state of the buffers to avoid race conditions\n",
    "        for address in osc_addresses:\n",
    "            if qrs_buffer_dict[address].is_full(): # ensure there is enough data in the buffer to derive the heart rate\n",
    "                result = qrs_buffer_dict[address].transform_tick(\n",
    "                    functions = [heart_rate],\n",
    "                    args = [(hr_window, ecg_sr)],\n",
    "                    kwargs = [{}],\n",
    "                    mode = \"time\",\n",
    "                    interval=1000,  # 1 second interval for heart rate calculation\n",
    "                    output_indices=[1]  # specify the output index for the heart rate\n",
    "                )\n",
    "                if result is not None:  # check if the transform was applied\n",
    "                    heart_rate_buffer_dict[address].enqueue(result) # enqueue the result in the heart rate buffer\n",
    "\n",
    "        await asyncio.sleep(0) # yield control to the event loop continuously\n",
    "\n",
    "async def heart_rate_mapping_array_reduction(mapping_array):\n",
    "\n",
    "    functions = [np.mean]  # Use mean as the reduction function\n",
    "    args = [()]\n",
    "    kwargs = [{}]\n",
    "\n",
    "    while True:\n",
    "        # Update the MappingArray values\n",
    "        mapping_array.update_array_tick(\n",
    "            reduction_functions=functions,\n",
    "            args_list=args,\n",
    "            kwargs_list=kwargs,\n",
    "            mode=\"update\"\n",
    "        )\n",
    "\n",
    "        await asyncio.sleep(0)  # yeild control to the event loop continuously\n",
    "\n",
    "\n",
    "async def main():\n",
    "\n",
    "    # Define the OSC addresses\n",
    "    osc_addresses = [\"/aud\", \"/brs\", \"/conductor\", \"/vn1\"]\n",
    "\n",
    "    # Set the OSC server IP and port\n",
    "    osc_ip = \"127.0.0.1\"\n",
    "    osc_port = 13000\n",
    "\n",
    "    # Set the lighting client IP and port\n",
    "    lighting_ip = \"192.0.0.1\"\n",
    "    lighting_port = 12000\n",
    "\n",
    "    # Create FIFO buffers for each OSC address\n",
    "    ecg_buffer_dict = {address: FIFOBuffer(256) for address in osc_addresses}\n",
    "    qrs_buffer_dict = {address: FIFOBuffer(256) for address in osc_addresses}\n",
    "    heart_rate_buffer_dict = {address: FIFOBuffer(10) for address in osc_addresses} # heart rate buffers take the previous 10 derived heart rates\n",
    "\n",
    "    # Create a MappingArray instance for organ mapping using the heart rate buffers\n",
    "    heart_rate_mapping_array = MappingArray(heart_rate_buffer_dict)\n",
    "\n",
    "    # Set organ lighting array\n",
    "    organ_leds = LightingArray(np.arange(401, 415))  # Organ LEDs are fixtures 401 to 414\n",
    "\n",
    "    # Set up the OSC server to listen for incoming messages\n",
    "    setup_osc_server(osc_ip, osc_port, osc_addresses, ecg_buffer_dict)\n",
    "\n",
    "    # Set up the lighting client\n",
    "    lighting_client = initiate_client(lighting_ip, lighting_port)\n",
    "\n",
    "    # Start the command listener task\n",
    "    task_commands = asyncio.create_task(listen_for_commands())\n",
    "\n",
    "    # Start the OSC loop to process incoming messages\n",
    "    task_osc_loop = asyncio.create_task(osc_loop())\n",
    "\n",
    "    # Start the QRS transform task\n",
    "    task_qrs_transform = asyncio.create_task(transform_signals_qrs(ecg_buffer_dict, qrs_buffer_dict, osc_addresses))\n",
    "\n",
    "    # Start the heart rate derivation task\n",
    "    task_heart_rate = asyncio.create_task(derive_heart_rate(qrs_buffer_dict, heart_rate_buffer_dict, osc_addresses))\n",
    "\n",
    "    # Start the heart rate mapping array reduction task\n",
    "    task_heart_rate_mapping_array = asyncio.create_task(heart_rate_mapping_array_reduction(heart_rate_mapping_array))\n",
    "\n",
    "    all_tasks = [task_commands, task_osc_loop, task_qrs_transform, task_heart_rate, task_heart_rate_mapping_array]\n",
    "\n",
    "    await asyncio.gather(*all_tasks)"
   ]
  },
  {
   "cell_type": "markdown",
   "id": "ddefc6e1",
   "metadata": {},
   "source": [
    "#### 4.2.3 Spatially Expanding the Mapping Array\n",
    "\n",
    "Although our ```MappingArray``` is updating, we still have the problem that we only have four values and yet 14 LEDs. To handle this, we can use a **spatial expansion**, that is define a new array within the ```MappingArray``` than fits the shape of our ```LightingArray```. This is unsurprisingly done with the ```spatial_expansion``` function. Similar to the ```transform``` and ```update_array``` function, this applies a chain of Python functions to alter the shape of the ```MappingArray```. The syntax is similar to the ```transform``` and ```update_array``` function. Below is an example simply filling an expansion with just the conductor's value."
   ]
  },
  {
   "cell_type": "code",
   "execution_count": 39,
   "id": "c5af404a",
   "metadata": {},
   "outputs": [],
   "source": [
    "from mapping.mapping_functions import fill_1d\n",
    "\n",
    "functions = [fill_1d]\n",
    "args = [()]\n",
    "kwargs = [{\"input_value\": organ_mapping_array.get_values([\"/conductor\"]), \"output_size\": organ_leds.no_leds}]  # take the conductor value and expand to the number of LEDs\n",
    "\n",
    "organ_mapping_array.spatial_expansion(\n",
    "    expansion_functions=functions,\n",
    "    args_list=args,\n",
    "    kwargs_list=kwargs\n",
    ")"
   ]
  },
  {
   "cell_type": "markdown",
   "id": "960af7b5",
   "metadata": {},
   "source": [
    "By default, the expansion is updated in place. However, the ```return_expansion``` argument can be used to return it as an ```np.array```."
   ]
  },
  {
   "cell_type": "code",
   "execution_count": 40,
   "id": "7db68961",
   "metadata": {},
   "outputs": [
    {
     "name": "stdout",
     "output_type": "stream",
     "text": [
      "Expansion: [90. 90. 90. 90. 90. 90. 90. 90. 90. 90. 90. 90. 90. 90.]\n"
     ]
    }
   ],
   "source": [
    "expansion = organ_mapping_array.spatial_expansion(\n",
    "    expansion_functions=functions,\n",
    "    args_list=args,\n",
    "    kwargs_list=kwargs,\n",
    "    return_expansion=True\n",
    ")\n",
    "\n",
    "print(f\"Expansion: {expansion}\")"
   ]
  },
  {
   "cell_type": "markdown",
   "id": "841be9a3",
   "metadata": {},
   "source": [
    "A single ```MappingArray``` can be used to derive multiple expansions. This is useful in the case that we wish to map the array to multiple lighting groups. We can give each expansion a name using the ```expansion_name``` argument. If no ```expansion_name``` is provided (as above), then increasing integers will be used for each expansion."
   ]
  },
  {
   "cell_type": "code",
   "execution_count": 42,
   "id": "78218f01",
   "metadata": {},
   "outputs": [
    {
     "name": "stdout",
     "output_type": "stream",
     "text": [
      "Conductor Expansion: [90. 90. 90. 90. 90. 90. 90. 90. 90. 90. 90. 90. 90. 90.]\n",
      "Brass Expansion: [80. 80. 80. 80. 80. 80. 80. 80. 80. 80. 80. 80. 80. 80.]\n"
     ]
    }
   ],
   "source": [
    "functions = [fill_1d]\n",
    "args = [()]\n",
    "kwargs = [{\"input_value\": organ_mapping_array.get_values([\"/conductor\"]), \"output_size\": organ_leds.no_leds}]  # take the conductor value and expand to the number of LEDs\n",
    "\n",
    "organ_mapping_array.spatial_expansion(\n",
    "    expansion_functions=functions,\n",
    "    args_list=args,\n",
    "    kwargs_list=kwargs,\n",
    "    expansion_name=\"expansion_conductor\"  # name the expansion for later use\n",
    ")\n",
    "\n",
    "kwargs = [{\"input_value\": organ_mapping_array.get_values([\"/brs\"]), \"output_size\": organ_leds.no_leds}]  # take the brass value and expand to the number of LEDs\n",
    "\n",
    "organ_mapping_array.spatial_expansion(\n",
    "    expansion_functions=functions,\n",
    "    args_list=args,\n",
    "    kwargs_list=kwargs,\n",
    "    expansion_name=\"expansion_brs\"  # name the expansion for later use\n",
    ")\n",
    "\n",
    "print(f\"Conductor Expansion: {organ_mapping_array.get_expansion('expansion_conductor')}\")\n",
    "print(f\"Brass Expansion: {organ_mapping_array.get_expansion('expansion_brs')}\")"
   ]
  },
  {
   "cell_type": "markdown",
   "id": "f1991914",
   "metadata": {},
   "source": [
    "We can see all of a ```MappingArray``` expansions using the ```get_expansion_names``` method."
   ]
  },
  {
   "cell_type": "code",
   "execution_count": 43,
   "id": "619bfe64",
   "metadata": {},
   "outputs": [
    {
     "name": "stdout",
     "output_type": "stream",
     "text": [
      "All Expansions: ['0', 'expansion_conductor', 'expansion_brs']\n"
     ]
    }
   ],
   "source": [
    "print(f\"All Expansions: {organ_mapping_array.get_expansion_names()}\")"
   ]
  },
  {
   "cell_type": "markdown",
   "id": "7df21eeb",
   "metadata": {},
   "source": [
    "Here we can see all of our expansions. Note that the returned expansion is not internally stored, and therefore is not retrievable by name.\n",
    "\n",
    "Now let's try an expansion using all four of our ```MappingArray``` values. We can use the ```interpolate_1d``` function to linearly interpolate across the array. We can set each of the mapping array values to be at a fixed position in the expansion using the ```original_indices``` argument. If there is no value placed at the edges, we can select edge behaviour as either ```\"reflect\"```, which mirrors the interpolation in the other direction, or ```\"wrap\"```, which wraps the interpolation around the array. The ```original_indices``` can be set as index numbers within the expansion. However, if we would rather work with fixture numbers for clarity, we can set the ```anchor``` argument of the ```LightingArray``` and use the ```get_anchor_positions``` method to obtain the indices within the ```LightingArray```."
   ]
  },
  {
   "cell_type": "code",
   "execution_count": null,
   "id": "da86a977",
   "metadata": {},
   "outputs": [],
   "source": [
    "from mapping.mapping_functions import interpolate_1d\n",
    "\n",
    "# set the anchor positions within the lighting array - remember that the organ LEDs are fixtures 401 to 414\n",
    "organ_leds.set_anchor_positions(403, 406, 49, 412)"
   ]
  }
 ],
 "metadata": {
  "kernelspec": {
   "display_name": "Aarhus_Interactive_Lighting",
   "language": "python",
   "name": "python3"
  },
  "language_info": {
   "codemirror_mode": {
    "name": "ipython",
    "version": 3
   },
   "file_extension": ".py",
   "mimetype": "text/x-python",
   "name": "python",
   "nbconvert_exporter": "python",
   "pygments_lexer": "ipython3",
   "version": "3.10.16"
  }
 },
 "nbformat": 4,
 "nbformat_minor": 5
}
